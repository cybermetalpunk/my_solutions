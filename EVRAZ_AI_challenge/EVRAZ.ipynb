{
 "cells": [
  {
   "cell_type": "code",
   "execution_count": 1,
   "metadata": {},
   "outputs": [],
   "source": [
    "import pandas as pd\n",
    "import numpy as np\n",
    "from sklearn.preprocessing import OrdinalEncoder \n",
    "from catboost import CatBoostRegressor\n",
    "%matplotlib inline\n",
    "import matplotlib.pyplot as plt"
   ]
  },
  {
   "cell_type": "markdown",
   "metadata": {},
   "source": [
    "### Загрузка"
   ]
  },
  {
   "cell_type": "code",
   "execution_count": 2,
   "metadata": {},
   "outputs": [],
   "source": [
    "produv_train = pd.read_csv('produv_train.csv', parse_dates=['SEC'])\n",
    "lom_train = pd.read_csv('lom_train.csv')\n",
    "plavki_train = pd.read_csv('plavki_train.csv', parse_dates=['plavka_VR_NACH', 'plavka_VR_KON'])\n",
    "sip_train = pd.read_csv('sip_train.csv', parse_dates=['DAT_OTD'])\n",
    "chronom_train = pd.read_csv('chronom_train.csv', parse_dates=['VR_NACH','VR_KON'], usecols=[1, 2, 3, 4, 5, 6])\n",
    "chugun_train = pd.read_csv('chugun_train.csv', parse_dates=['DATA_ZAMERA'])\n",
    "gas_train = pd.read_csv('gas_train.csv', parse_dates=['Time'])\n",
    "target_train = pd.read_csv('target_train.csv')"
   ]
  },
  {
   "cell_type": "code",
   "execution_count": 3,
   "metadata": {},
   "outputs": [],
   "source": [
    "produv_test = pd.read_csv('produv_test.csv', parse_dates=['SEC'])\n",
    "lom_test = pd.read_csv('lom_test.csv')\n",
    "plavki_test = pd.read_csv('plavki_test.csv', parse_dates=['plavka_VR_NACH', 'plavka_VR_KON'])\n",
    "sip_test = pd.read_csv('sip_test.csv', parse_dates=['DAT_OTD'])\n",
    "chronom_test = pd.read_csv('chronom_test.csv', parse_dates=['VR_NACH','VR_KON'], usecols=[1, 2, 3, 4, 5, 6])\n",
    "chugun_test = pd.read_csv('chugun_test.csv', parse_dates=['DATA_ZAMERA'])\n",
    "gas_test = pd.read_csv('gas_test.csv', parse_dates=['Time'])"
   ]
  },
  {
   "cell_type": "markdown",
   "metadata": {},
   "source": [
    "### Смотрим обучающие данные"
   ]
  },
  {
   "cell_type": "code",
   "execution_count": 4,
   "metadata": {},
   "outputs": [
    {
     "data": {
      "text/html": [
       "<div>\n",
       "<style scoped>\n",
       "    .dataframe tbody tr th:only-of-type {\n",
       "        vertical-align: middle;\n",
       "    }\n",
       "\n",
       "    .dataframe tbody tr th {\n",
       "        vertical-align: top;\n",
       "    }\n",
       "\n",
       "    .dataframe thead th {\n",
       "        text-align: right;\n",
       "    }\n",
       "</style>\n",
       "<table border=\"1\" class=\"dataframe\">\n",
       "  <thead>\n",
       "    <tr style=\"text-align: right;\">\n",
       "      <th></th>\n",
       "      <th>NPLV</th>\n",
       "      <th>SEC</th>\n",
       "      <th>RAS</th>\n",
       "      <th>POL</th>\n",
       "    </tr>\n",
       "  </thead>\n",
       "  <tbody>\n",
       "    <tr>\n",
       "      <th>0</th>\n",
       "      <td>510008</td>\n",
       "      <td>2021-01-01 03:18:26</td>\n",
       "      <td>382.0</td>\n",
       "      <td>3.92</td>\n",
       "    </tr>\n",
       "    <tr>\n",
       "      <th>1</th>\n",
       "      <td>510008</td>\n",
       "      <td>2021-01-01 03:18:28</td>\n",
       "      <td>382.0</td>\n",
       "      <td>3.92</td>\n",
       "    </tr>\n",
       "    <tr>\n",
       "      <th>2</th>\n",
       "      <td>510008</td>\n",
       "      <td>2021-01-01 03:18:30</td>\n",
       "      <td>553.0</td>\n",
       "      <td>3.92</td>\n",
       "    </tr>\n",
       "    <tr>\n",
       "      <th>3</th>\n",
       "      <td>510008</td>\n",
       "      <td>2021-01-01 03:18:32</td>\n",
       "      <td>701.0</td>\n",
       "      <td>3.92</td>\n",
       "    </tr>\n",
       "    <tr>\n",
       "      <th>4</th>\n",
       "      <td>510008</td>\n",
       "      <td>2021-01-01 03:18:34</td>\n",
       "      <td>813.0</td>\n",
       "      <td>3.92</td>\n",
       "    </tr>\n",
       "  </tbody>\n",
       "</table>\n",
       "</div>"
      ],
      "text/plain": [
       "     NPLV                 SEC    RAS   POL\n",
       "0  510008 2021-01-01 03:18:26  382.0  3.92\n",
       "1  510008 2021-01-01 03:18:28  382.0  3.92\n",
       "2  510008 2021-01-01 03:18:30  553.0  3.92\n",
       "3  510008 2021-01-01 03:18:32  701.0  3.92\n",
       "4  510008 2021-01-01 03:18:34  813.0  3.92"
      ]
     },
     "execution_count": 4,
     "metadata": {},
     "output_type": "execute_result"
    }
   ],
   "source": [
    "produv_train.head(5)"
   ]
  },
  {
   "cell_type": "code",
   "execution_count": 5,
   "metadata": {},
   "outputs": [
    {
     "data": {
      "text/plain": [
       "(4729802, 4)"
      ]
     },
     "execution_count": 5,
     "metadata": {},
     "output_type": "execute_result"
    }
   ],
   "source": [
    "produv_train.shape"
   ]
  },
  {
   "cell_type": "code",
   "execution_count": 6,
   "metadata": {},
   "outputs": [
    {
     "data": {
      "text/html": [
       "<div>\n",
       "<style scoped>\n",
       "    .dataframe tbody tr th:only-of-type {\n",
       "        vertical-align: middle;\n",
       "    }\n",
       "\n",
       "    .dataframe tbody tr th {\n",
       "        vertical-align: top;\n",
       "    }\n",
       "\n",
       "    .dataframe thead th {\n",
       "        text-align: right;\n",
       "    }\n",
       "</style>\n",
       "<table border=\"1\" class=\"dataframe\">\n",
       "  <thead>\n",
       "    <tr style=\"text-align: right;\">\n",
       "      <th></th>\n",
       "      <th>NPLV</th>\n",
       "      <th>RAS</th>\n",
       "      <th>POL</th>\n",
       "    </tr>\n",
       "  </thead>\n",
       "  <tbody>\n",
       "    <tr>\n",
       "      <th>count</th>\n",
       "      <td>4.729802e+06</td>\n",
       "      <td>4.729802e+06</td>\n",
       "      <td>4.729802e+06</td>\n",
       "    </tr>\n",
       "    <tr>\n",
       "      <th>mean</th>\n",
       "      <td>5.112559e+05</td>\n",
       "      <td>3.816291e+02</td>\n",
       "      <td>4.645886e+00</td>\n",
       "    </tr>\n",
       "    <tr>\n",
       "      <th>std</th>\n",
       "      <td>7.064421e+02</td>\n",
       "      <td>2.887899e+02</td>\n",
       "      <td>2.326494e+00</td>\n",
       "    </tr>\n",
       "    <tr>\n",
       "      <th>min</th>\n",
       "      <td>5.100080e+05</td>\n",
       "      <td>0.000000e+00</td>\n",
       "      <td>0.000000e+00</td>\n",
       "    </tr>\n",
       "    <tr>\n",
       "      <th>25%</th>\n",
       "      <td>5.106550e+05</td>\n",
       "      <td>1.674842e+02</td>\n",
       "      <td>3.212459e+00</td>\n",
       "    </tr>\n",
       "    <tr>\n",
       "      <th>50%</th>\n",
       "      <td>5.112470e+05</td>\n",
       "      <td>2.776382e+02</td>\n",
       "      <td>4.709795e+00</td>\n",
       "    </tr>\n",
       "    <tr>\n",
       "      <th>75%</th>\n",
       "      <td>5.118900e+05</td>\n",
       "      <td>4.600000e+02</td>\n",
       "      <td>6.267165e+00</td>\n",
       "    </tr>\n",
       "    <tr>\n",
       "      <th>max</th>\n",
       "      <td>5.123220e+05</td>\n",
       "      <td>1.130000e+03</td>\n",
       "      <td>1.701000e+01</td>\n",
       "    </tr>\n",
       "  </tbody>\n",
       "</table>\n",
       "</div>"
      ],
      "text/plain": [
       "               NPLV           RAS           POL\n",
       "count  4.729802e+06  4.729802e+06  4.729802e+06\n",
       "mean   5.112559e+05  3.816291e+02  4.645886e+00\n",
       "std    7.064421e+02  2.887899e+02  2.326494e+00\n",
       "min    5.100080e+05  0.000000e+00  0.000000e+00\n",
       "25%    5.106550e+05  1.674842e+02  3.212459e+00\n",
       "50%    5.112470e+05  2.776382e+02  4.709795e+00\n",
       "75%    5.118900e+05  4.600000e+02  6.267165e+00\n",
       "max    5.123220e+05  1.130000e+03  1.701000e+01"
      ]
     },
     "execution_count": 6,
     "metadata": {},
     "output_type": "execute_result"
    }
   ],
   "source": [
    "produv_train.describe()"
   ]
  },
  {
   "cell_type": "code",
   "execution_count": 7,
   "metadata": {},
   "outputs": [
    {
     "data": {
      "text/plain": [
       "(NPLV    2055\n",
       " SEC     2055\n",
       " RAS     2055\n",
       " POL     2055\n",
       " dtype: int64,\n",
       " Timedelta('0 days 01:08:28'))"
      ]
     },
     "execution_count": 7,
     "metadata": {},
     "output_type": "execute_result"
    }
   ],
   "source": [
    "produv_train[produv_train.NPLV == 510008].count(), produv_train[produv_train.NPLV == 510008]['SEC'].max()-produv_train[produv_train.NPLV == 510008]['SEC'].min()"
   ]
  },
  {
   "cell_type": "code",
   "execution_count": 8,
   "metadata": {},
   "outputs": [
    {
     "data": {
      "text/plain": [
       "NPLV\n",
       "510189       912\n",
       "512227      1058\n",
       "512229      1109\n",
       "512060      1155\n",
       "512063      1165\n",
       "           ...  \n",
       "510294     18065\n",
       "511929     18236\n",
       "510167     19369\n",
       "510437     20825\n",
       "512322    385864\n",
       "Name: NPLV, Length: 2063, dtype: int64"
      ]
     },
     "execution_count": 8,
     "metadata": {},
     "output_type": "execute_result"
    }
   ],
   "source": [
    "produv_train.groupby('NPLV')['NPLV'].count().sort_values()"
   ]
  },
  {
   "cell_type": "markdown",
   "metadata": {},
   "source": [
    "Уникальная плавка с продувкой более 385 тысяч раз."
   ]
  },
  {
   "cell_type": "code",
   "execution_count": 9,
   "metadata": {},
   "outputs": [
    {
     "data": {
      "text/plain": [
       "Timedelta('8 days 22:22:06')"
      ]
     },
     "execution_count": 9,
     "metadata": {},
     "output_type": "execute_result"
    }
   ],
   "source": [
    "produv_train[produv_train.NPLV == 512322]['SEC'].max()-produv_train[produv_train.NPLV == 512322]['SEC'].min()"
   ]
  },
  {
   "cell_type": "code",
   "execution_count": 10,
   "metadata": {},
   "outputs": [
    {
     "data": {
      "text/html": [
       "<div>\n",
       "<style scoped>\n",
       "    .dataframe tbody tr th:only-of-type {\n",
       "        vertical-align: middle;\n",
       "    }\n",
       "\n",
       "    .dataframe tbody tr th {\n",
       "        vertical-align: top;\n",
       "    }\n",
       "\n",
       "    .dataframe thead th {\n",
       "        text-align: right;\n",
       "    }\n",
       "</style>\n",
       "<table border=\"1\" class=\"dataframe\">\n",
       "  <thead>\n",
       "    <tr style=\"text-align: right;\">\n",
       "      <th></th>\n",
       "      <th>NPLV</th>\n",
       "      <th>SEC</th>\n",
       "      <th>RAS</th>\n",
       "      <th>POL</th>\n",
       "    </tr>\n",
       "  </thead>\n",
       "  <tbody>\n",
       "    <tr>\n",
       "      <th>4343938</th>\n",
       "      <td>512322</td>\n",
       "      <td>2021-04-26 18:08:48</td>\n",
       "      <td>383.000000</td>\n",
       "      <td>3.570000</td>\n",
       "    </tr>\n",
       "    <tr>\n",
       "      <th>4343939</th>\n",
       "      <td>512322</td>\n",
       "      <td>2021-04-26 18:08:50</td>\n",
       "      <td>569.000000</td>\n",
       "      <td>3.490000</td>\n",
       "    </tr>\n",
       "    <tr>\n",
       "      <th>4343940</th>\n",
       "      <td>512322</td>\n",
       "      <td>2021-04-26 18:08:52</td>\n",
       "      <td>745.000000</td>\n",
       "      <td>3.490000</td>\n",
       "    </tr>\n",
       "    <tr>\n",
       "      <th>4343941</th>\n",
       "      <td>512322</td>\n",
       "      <td>2021-04-26 18:08:54</td>\n",
       "      <td>870.000000</td>\n",
       "      <td>3.490000</td>\n",
       "    </tr>\n",
       "    <tr>\n",
       "      <th>4343942</th>\n",
       "      <td>512322</td>\n",
       "      <td>2021-04-26 18:08:56</td>\n",
       "      <td>954.000000</td>\n",
       "      <td>3.340000</td>\n",
       "    </tr>\n",
       "    <tr>\n",
       "      <th>...</th>\n",
       "      <td>...</td>\n",
       "      <td>...</td>\n",
       "      <td>...</td>\n",
       "      <td>...</td>\n",
       "    </tr>\n",
       "    <tr>\n",
       "      <th>4729797</th>\n",
       "      <td>512322</td>\n",
       "      <td>2021-05-05 16:30:46</td>\n",
       "      <td>363.996249</td>\n",
       "      <td>4.850045</td>\n",
       "    </tr>\n",
       "    <tr>\n",
       "      <th>4729798</th>\n",
       "      <td>512322</td>\n",
       "      <td>2021-05-05 16:30:48</td>\n",
       "      <td>363.996999</td>\n",
       "      <td>4.850036</td>\n",
       "    </tr>\n",
       "    <tr>\n",
       "      <th>4729799</th>\n",
       "      <td>512322</td>\n",
       "      <td>2021-05-05 16:30:50</td>\n",
       "      <td>363.997749</td>\n",
       "      <td>4.850027</td>\n",
       "    </tr>\n",
       "    <tr>\n",
       "      <th>4729800</th>\n",
       "      <td>512322</td>\n",
       "      <td>2021-05-05 16:30:52</td>\n",
       "      <td>363.998499</td>\n",
       "      <td>4.850018</td>\n",
       "    </tr>\n",
       "    <tr>\n",
       "      <th>4729801</th>\n",
       "      <td>512322</td>\n",
       "      <td>2021-05-05 16:30:54</td>\n",
       "      <td>363.999250</td>\n",
       "      <td>4.850009</td>\n",
       "    </tr>\n",
       "  </tbody>\n",
       "</table>\n",
       "<p>385864 rows × 4 columns</p>\n",
       "</div>"
      ],
      "text/plain": [
       "           NPLV                 SEC         RAS       POL\n",
       "4343938  512322 2021-04-26 18:08:48  383.000000  3.570000\n",
       "4343939  512322 2021-04-26 18:08:50  569.000000  3.490000\n",
       "4343940  512322 2021-04-26 18:08:52  745.000000  3.490000\n",
       "4343941  512322 2021-04-26 18:08:54  870.000000  3.490000\n",
       "4343942  512322 2021-04-26 18:08:56  954.000000  3.340000\n",
       "...         ...                 ...         ...       ...\n",
       "4729797  512322 2021-05-05 16:30:46  363.996249  4.850045\n",
       "4729798  512322 2021-05-05 16:30:48  363.996999  4.850036\n",
       "4729799  512322 2021-05-05 16:30:50  363.997749  4.850027\n",
       "4729800  512322 2021-05-05 16:30:52  363.998499  4.850018\n",
       "4729801  512322 2021-05-05 16:30:54  363.999250  4.850009\n",
       "\n",
       "[385864 rows x 4 columns]"
      ]
     },
     "execution_count": 10,
     "metadata": {},
     "output_type": "execute_result"
    }
   ],
   "source": [
    "produv_train[produv_train.NPLV == 512322]"
   ]
  },
  {
   "cell_type": "code",
   "execution_count": 11,
   "metadata": {},
   "outputs": [
    {
     "data": {
      "text/plain": [
       "NPLV    0\n",
       "SEC     0\n",
       "RAS     0\n",
       "POL     0\n",
       "dtype: int64"
      ]
     },
     "execution_count": 11,
     "metadata": {},
     "output_type": "execute_result"
    }
   ],
   "source": [
    "produv_train.isna().sum()"
   ]
  },
  {
   "cell_type": "code",
   "execution_count": 12,
   "metadata": {},
   "outputs": [
    {
     "data": {
      "text/plain": [
       "<AxesSubplot:>"
      ]
     },
     "execution_count": 12,
     "metadata": {},
     "output_type": "execute_result"
    },
    {
     "data": {
      "image/png": "[encoded data removed]",
      "text/plain": [
       "<Figure size 432x288 with 1 Axes>"
      ]
     },
     "metadata": {
      "needs_background": "light"
     },
     "output_type": "display_data"
    }
   ],
   "source": [
    "produv_train.RAS.hist()"
   ]
  },
  {
   "cell_type": "code",
   "execution_count": 13,
   "metadata": {},
   "outputs": [
    {
     "data": {
      "text/plain": [
       "<AxesSubplot:>"
      ]
     },
     "execution_count": 13,
     "metadata": {},
     "output_type": "execute_result"
    },
    {
     "data": {
      "image/png": "[encoded data removed]",
      "text/plain": [
       "<Figure size 432x288 with 1 Axes>"
      ]
     },
     "metadata": {
      "needs_background": "light"
     },
     "output_type": "display_data"
    }
   ],
   "source": [
    "produv_train.POL.hist()"
   ]
  },
  {
   "cell_type": "code",
   "execution_count": 14,
   "metadata": {},
   "outputs": [
    {
     "data": {
      "text/plain": [
       "Timedelta('0 days 01:02:16')"
      ]
     },
     "execution_count": 14,
     "metadata": {},
     "output_type": "execute_result"
    }
   ],
   "source": [
    "t = produv_train.groupby('NPLV')['SEC'].agg(['min', 'max'])\n",
    "(t['max']-t['min']).median()"
   ]
  },
  {
   "cell_type": "code",
   "execution_count": 15,
   "metadata": {},
   "outputs": [
    {
     "data": {
      "text/html": [
       "<div>\n",
       "<style scoped>\n",
       "    .dataframe tbody tr th:only-of-type {\n",
       "        vertical-align: middle;\n",
       "    }\n",
       "\n",
       "    .dataframe tbody tr th {\n",
       "        vertical-align: top;\n",
       "    }\n",
       "\n",
       "    .dataframe thead th {\n",
       "        text-align: right;\n",
       "    }\n",
       "</style>\n",
       "<table border=\"1\" class=\"dataframe\">\n",
       "  <thead>\n",
       "    <tr style=\"text-align: right;\">\n",
       "      <th></th>\n",
       "      <th>NPLV</th>\n",
       "      <th>VDL</th>\n",
       "      <th>NML</th>\n",
       "      <th>VES</th>\n",
       "    </tr>\n",
       "  </thead>\n",
       "  <tbody>\n",
       "    <tr>\n",
       "      <th>0</th>\n",
       "      <td>510008</td>\n",
       "      <td>4</td>\n",
       "      <td>К</td>\n",
       "      <td>56500</td>\n",
       "    </tr>\n",
       "    <tr>\n",
       "      <th>1</th>\n",
       "      <td>510008</td>\n",
       "      <td>8</td>\n",
       "      <td>О</td>\n",
       "      <td>16700</td>\n",
       "    </tr>\n",
       "    <tr>\n",
       "      <th>2</th>\n",
       "      <td>510008</td>\n",
       "      <td>13</td>\n",
       "      <td>КП</td>\n",
       "      <td>3000</td>\n",
       "    </tr>\n",
       "    <tr>\n",
       "      <th>3</th>\n",
       "      <td>510009</td>\n",
       "      <td>4</td>\n",
       "      <td>К</td>\n",
       "      <td>49800</td>\n",
       "    </tr>\n",
       "    <tr>\n",
       "      <th>4</th>\n",
       "      <td>510009</td>\n",
       "      <td>8</td>\n",
       "      <td>О</td>\n",
       "      <td>22800</td>\n",
       "    </tr>\n",
       "  </tbody>\n",
       "</table>\n",
       "</div>"
      ],
      "text/plain": [
       "     NPLV  VDL   NML    VES\n",
       "0  510008    4  К     56500\n",
       "1  510008    8  О     16700\n",
       "2  510008   13  КП     3000\n",
       "3  510009    4  К     49800\n",
       "4  510009    8  О     22800"
      ]
     },
     "execution_count": 15,
     "metadata": {},
     "output_type": "execute_result"
    }
   ],
   "source": [
    "lom_train.head()"
   ]
  },
  {
   "cell_type": "code",
   "execution_count": 16,
   "metadata": {},
   "outputs": [
    {
     "data": {
      "text/plain": [
       "<AxesSubplot:>"
      ]
     },
     "execution_count": 16,
     "metadata": {},
     "output_type": "execute_result"
    },
    {
     "data": {
      "image/png": "[encoded data removed]",
      "text/plain": [
       "<Figure size 432x288 with 1 Axes>"
      ]
     },
     "metadata": {
      "needs_background": "light"
     },
     "output_type": "display_data"
    }
   ],
   "source": [
    "lom_train.VDL.hist()"
   ]
  },
  {
   "cell_type": "code",
   "execution_count": 17,
   "metadata": {},
   "outputs": [
    {
     "data": {
      "text/plain": [
       "<AxesSubplot:>"
      ]
     },
     "execution_count": 17,
     "metadata": {},
     "output_type": "execute_result"
    },
    {
     "data": {
      "image/png": "[encoded data removed]",
      "text/plain": [
       "<Figure size 432x288 with 1 Axes>"
      ]
     },
     "metadata": {
      "needs_background": "light"
     },
     "output_type": "display_data"
    }
   ],
   "source": [
    "lom_train.NML.hist()"
   ]
  },
  {
   "cell_type": "code",
   "execution_count": 18,
   "metadata": {},
   "outputs": [
    {
     "data": {
      "text/plain": [
       "<AxesSubplot:>"
      ]
     },
     "execution_count": 18,
     "metadata": {},
     "output_type": "execute_result"
    },
    {
     "data": {
      "image/png": "[encoded data removed]",
      "text/plain": [
       "<Figure size 432x288 with 1 Axes>"
      ]
     },
     "metadata": {
      "needs_background": "light"
     },
     "output_type": "display_data"
    }
   ],
   "source": [
    "lom_train.VES.hist()"
   ]
  },
  {
   "cell_type": "code",
   "execution_count": 19,
   "metadata": {},
   "outputs": [
    {
     "data": {
      "text/plain": [
       "NPLV    0\n",
       "VDL     0\n",
       "NML     0\n",
       "VES     0\n",
       "dtype: int64"
      ]
     },
     "execution_count": 19,
     "metadata": {},
     "output_type": "execute_result"
    }
   ],
   "source": [
    "lom_train.isna().sum()"
   ]
  },
  {
   "cell_type": "code",
   "execution_count": 20,
   "metadata": {},
   "outputs": [
    {
     "data": {
      "text/html": [
       "<div>\n",
       "<style scoped>\n",
       "    .dataframe tbody tr th:only-of-type {\n",
       "        vertical-align: middle;\n",
       "    }\n",
       "\n",
       "    .dataframe tbody tr th {\n",
       "        vertical-align: top;\n",
       "    }\n",
       "\n",
       "    .dataframe thead th {\n",
       "        text-align: right;\n",
       "    }\n",
       "</style>\n",
       "<table border=\"1\" class=\"dataframe\">\n",
       "  <thead>\n",
       "    <tr style=\"text-align: right;\">\n",
       "      <th></th>\n",
       "      <th>NPLV</th>\n",
       "      <th>plavka_VR_NACH</th>\n",
       "      <th>plavka_VR_KON</th>\n",
       "      <th>plavka_NMZ</th>\n",
       "      <th>plavka_NAPR_ZAD</th>\n",
       "      <th>plavka_STFUT</th>\n",
       "      <th>plavka_TIPE_FUR</th>\n",
       "      <th>plavka_ST_FURM</th>\n",
       "      <th>plavka_TIPE_GOL</th>\n",
       "      <th>plavka_ST_GOL</th>\n",
       "    </tr>\n",
       "  </thead>\n",
       "  <tbody>\n",
       "    <tr>\n",
       "      <th>0</th>\n",
       "      <td>510008</td>\n",
       "      <td>2021-01-01 03:08:11</td>\n",
       "      <td>2021-01-01 03:51:10</td>\n",
       "      <td>С255</td>\n",
       "      <td>МНЛЗ</td>\n",
       "      <td>971</td>\n",
       "      <td>цилиндрическая</td>\n",
       "      <td>11</td>\n",
       "      <td>5 сопловая</td>\n",
       "      <td>11</td>\n",
       "    </tr>\n",
       "    <tr>\n",
       "      <th>1</th>\n",
       "      <td>510009</td>\n",
       "      <td>2021-01-01 04:00:44</td>\n",
       "      <td>2021-01-01 05:07:28</td>\n",
       "      <td>С255</td>\n",
       "      <td>МНЛЗ</td>\n",
       "      <td>972</td>\n",
       "      <td>цилиндрическая</td>\n",
       "      <td>12</td>\n",
       "      <td>5 сопловая</td>\n",
       "      <td>12</td>\n",
       "    </tr>\n",
       "    <tr>\n",
       "      <th>2</th>\n",
       "      <td>510010</td>\n",
       "      <td>2021-01-01 05:12:29</td>\n",
       "      <td>2021-01-01 06:00:53</td>\n",
       "      <td>Ст3пс/Э</td>\n",
       "      <td>Изл</td>\n",
       "      <td>973</td>\n",
       "      <td>цилиндрическая</td>\n",
       "      <td>13</td>\n",
       "      <td>5 сопловая</td>\n",
       "      <td>13</td>\n",
       "    </tr>\n",
       "    <tr>\n",
       "      <th>3</th>\n",
       "      <td>510011</td>\n",
       "      <td>2021-01-01 06:13:48</td>\n",
       "      <td>2021-01-01 07:08:39</td>\n",
       "      <td>Св-08А.z02</td>\n",
       "      <td>Изл</td>\n",
       "      <td>974</td>\n",
       "      <td>цилиндрическая</td>\n",
       "      <td>14</td>\n",
       "      <td>5 сопловая</td>\n",
       "      <td>14</td>\n",
       "    </tr>\n",
       "    <tr>\n",
       "      <th>4</th>\n",
       "      <td>510012</td>\n",
       "      <td>2021-01-01 07:13:44</td>\n",
       "      <td>2021-01-01 08:01:59</td>\n",
       "      <td>SC2M/ЭТ</td>\n",
       "      <td>МНЛС</td>\n",
       "      <td>975</td>\n",
       "      <td>цилиндрическая</td>\n",
       "      <td>15</td>\n",
       "      <td>5 сопловая</td>\n",
       "      <td>15</td>\n",
       "    </tr>\n",
       "  </tbody>\n",
       "</table>\n",
       "</div>"
      ],
      "text/plain": [
       "     NPLV      plavka_VR_NACH       plavka_VR_KON       plavka_NMZ  \\\n",
       "0  510008 2021-01-01 03:08:11 2021-01-01 03:51:10  С255              \n",
       "1  510009 2021-01-01 04:00:44 2021-01-01 05:07:28  С255              \n",
       "2  510010 2021-01-01 05:12:29 2021-01-01 06:00:53  Ст3пс/Э           \n",
       "3  510011 2021-01-01 06:13:48 2021-01-01 07:08:39  Св-08А.z02        \n",
       "4  510012 2021-01-01 07:13:44 2021-01-01 08:01:59  SC2M/ЭТ           \n",
       "\n",
       "  plavka_NAPR_ZAD  plavka_STFUT plavka_TIPE_FUR  plavka_ST_FURM  \\\n",
       "0            МНЛЗ           971  цилиндрическая              11   \n",
       "1            МНЛЗ           972  цилиндрическая              12   \n",
       "2             Изл           973  цилиндрическая              13   \n",
       "3             Изл           974  цилиндрическая              14   \n",
       "4            МНЛС           975  цилиндрическая              15   \n",
       "\n",
       "        plavka_TIPE_GOL  plavka_ST_GOL  \n",
       "0  5 сопловая                       11  \n",
       "1  5 сопловая                       12  \n",
       "2  5 сопловая                       13  \n",
       "3  5 сопловая                       14  \n",
       "4  5 сопловая                       15  "
      ]
     },
     "execution_count": 20,
     "metadata": {},
     "output_type": "execute_result"
    }
   ],
   "source": [
    "plavki_train.head()"
   ]
  },
  {
   "cell_type": "code",
   "execution_count": 21,
   "metadata": {},
   "outputs": [
    {
     "data": {
      "text/plain": [
       "(2137, 10)"
      ]
     },
     "execution_count": 21,
     "metadata": {},
     "output_type": "execute_result"
    }
   ],
   "source": [
    "plavki_train.shape"
   ]
  },
  {
   "cell_type": "code",
   "execution_count": 22,
   "metadata": {},
   "outputs": [
    {
     "data": {
      "text/plain": [
       "511135    75\n",
       "511988     1\n",
       "511207     1\n",
       "511209     1\n",
       "511211     1\n",
       "          ..\n",
       "510466     1\n",
       "510468     1\n",
       "510470     1\n",
       "510472     1\n",
       "512004     1\n",
       "Name: NPLV, Length: 2063, dtype: int64"
      ]
     },
     "execution_count": 22,
     "metadata": {},
     "output_type": "execute_result"
    }
   ],
   "source": [
    "plavki_train.NPLV.value_counts()"
   ]
  },
  {
   "cell_type": "code",
   "execution_count": 23,
   "metadata": {},
   "outputs": [
    {
     "data": {
      "text/html": [
       "<div>\n",
       "<style scoped>\n",
       "    .dataframe tbody tr th:only-of-type {\n",
       "        vertical-align: middle;\n",
       "    }\n",
       "\n",
       "    .dataframe tbody tr th {\n",
       "        vertical-align: top;\n",
       "    }\n",
       "\n",
       "    .dataframe thead th {\n",
       "        text-align: right;\n",
       "    }\n",
       "</style>\n",
       "<table border=\"1\" class=\"dataframe\">\n",
       "  <thead>\n",
       "    <tr style=\"text-align: right;\">\n",
       "      <th></th>\n",
       "      <th>NPLV</th>\n",
       "      <th>plavka_VR_NACH</th>\n",
       "      <th>plavka_VR_KON</th>\n",
       "      <th>plavka_NMZ</th>\n",
       "      <th>plavka_NAPR_ZAD</th>\n",
       "      <th>plavka_STFUT</th>\n",
       "      <th>plavka_TIPE_FUR</th>\n",
       "      <th>plavka_ST_FURM</th>\n",
       "      <th>plavka_TIPE_GOL</th>\n",
       "      <th>plavka_ST_GOL</th>\n",
       "    </tr>\n",
       "  </thead>\n",
       "  <tbody>\n",
       "    <tr>\n",
       "      <th>1007</th>\n",
       "      <td>511135</td>\n",
       "      <td>2021-02-27 20:27:36</td>\n",
       "      <td>2021-02-27 21:28:44</td>\n",
       "      <td>С255</td>\n",
       "      <td>МНЛЗ</td>\n",
       "      <td>2098</td>\n",
       "      <td>цилиндрическая</td>\n",
       "      <td>63</td>\n",
       "      <td>5 сопловая</td>\n",
       "      <td>161</td>\n",
       "    </tr>\n",
       "    <tr>\n",
       "      <th>1008</th>\n",
       "      <td>511135</td>\n",
       "      <td>2021-02-27 20:27:36</td>\n",
       "      <td>2021-02-27 21:28:44</td>\n",
       "      <td>С255</td>\n",
       "      <td>МНЛЗ</td>\n",
       "      <td>2098</td>\n",
       "      <td>цилиндрическая</td>\n",
       "      <td>64</td>\n",
       "      <td>5 сопловая</td>\n",
       "      <td>162</td>\n",
       "    </tr>\n",
       "    <tr>\n",
       "      <th>1009</th>\n",
       "      <td>511135</td>\n",
       "      <td>2021-02-27 20:27:36</td>\n",
       "      <td>2021-02-27 21:28:44</td>\n",
       "      <td>С255</td>\n",
       "      <td>МНЛЗ</td>\n",
       "      <td>2098</td>\n",
       "      <td>цилиндрическая</td>\n",
       "      <td>65</td>\n",
       "      <td>5 сопловая</td>\n",
       "      <td>163</td>\n",
       "    </tr>\n",
       "    <tr>\n",
       "      <th>1010</th>\n",
       "      <td>511135</td>\n",
       "      <td>2021-02-27 20:27:36</td>\n",
       "      <td>2021-02-27 21:28:44</td>\n",
       "      <td>С255</td>\n",
       "      <td>МНЛЗ</td>\n",
       "      <td>2098</td>\n",
       "      <td>цилиндрическая</td>\n",
       "      <td>66</td>\n",
       "      <td>5 сопловая</td>\n",
       "      <td>164</td>\n",
       "    </tr>\n",
       "    <tr>\n",
       "      <th>1011</th>\n",
       "      <td>511135</td>\n",
       "      <td>2021-02-27 20:27:36</td>\n",
       "      <td>2021-02-27 21:28:44</td>\n",
       "      <td>С255</td>\n",
       "      <td>МНЛЗ</td>\n",
       "      <td>2098</td>\n",
       "      <td>цилиндрическая</td>\n",
       "      <td>67</td>\n",
       "      <td>5 сопловая</td>\n",
       "      <td>165</td>\n",
       "    </tr>\n",
       "  </tbody>\n",
       "</table>\n",
       "</div>"
      ],
      "text/plain": [
       "        NPLV      plavka_VR_NACH       plavka_VR_KON       plavka_NMZ  \\\n",
       "1007  511135 2021-02-27 20:27:36 2021-02-27 21:28:44  С255              \n",
       "1008  511135 2021-02-27 20:27:36 2021-02-27 21:28:44  С255              \n",
       "1009  511135 2021-02-27 20:27:36 2021-02-27 21:28:44  С255              \n",
       "1010  511135 2021-02-27 20:27:36 2021-02-27 21:28:44  С255              \n",
       "1011  511135 2021-02-27 20:27:36 2021-02-27 21:28:44  С255              \n",
       "\n",
       "     plavka_NAPR_ZAD  plavka_STFUT plavka_TIPE_FUR  plavka_ST_FURM  \\\n",
       "1007            МНЛЗ          2098  цилиндрическая              63   \n",
       "1008            МНЛЗ          2098  цилиндрическая              64   \n",
       "1009            МНЛЗ          2098  цилиндрическая              65   \n",
       "1010            МНЛЗ          2098  цилиндрическая              66   \n",
       "1011            МНЛЗ          2098  цилиндрическая              67   \n",
       "\n",
       "           plavka_TIPE_GOL  plavka_ST_GOL  \n",
       "1007  5 сопловая                      161  \n",
       "1008  5 сопловая                      162  \n",
       "1009  5 сопловая                      163  \n",
       "1010  5 сопловая                      164  \n",
       "1011  5 сопловая                      165  "
      ]
     },
     "execution_count": 23,
     "metadata": {},
     "output_type": "execute_result"
    }
   ],
   "source": [
    "plavki_train[plavki_train.NPLV==511135].head()"
   ]
  },
  {
   "cell_type": "code",
   "execution_count": 24,
   "metadata": {},
   "outputs": [
    {
     "data": {
      "text/plain": [
       "92    1\n",
       "20    1\n",
       "22    1\n",
       "23    1\n",
       "24    1\n",
       "     ..\n",
       "68    1\n",
       "69    1\n",
       "70    1\n",
       "71    1\n",
       "2     1\n",
       "Name: plavka_ST_FURM, Length: 75, dtype: int64"
      ]
     },
     "execution_count": 24,
     "metadata": {},
     "output_type": "execute_result"
    }
   ],
   "source": [
    "plavki_train[plavki_train.NPLV==511135]['plavka_ST_FURM'].value_counts()"
   ]
  },
  {
   "cell_type": "markdown",
   "metadata": {},
   "source": [
    "Один номер плавки встречается 75 раз с разным положением и номером фурм. Выкинем это."
   ]
  },
  {
   "cell_type": "code",
   "execution_count": 25,
   "metadata": {},
   "outputs": [],
   "source": [
    "plavki_train = plavki_train[plavki_train.NPLV!=511135]"
   ]
  },
  {
   "cell_type": "code",
   "execution_count": 26,
   "metadata": {},
   "outputs": [
    {
     "data": {
      "text/html": [
       "<div>\n",
       "<style scoped>\n",
       "    .dataframe tbody tr th:only-of-type {\n",
       "        vertical-align: middle;\n",
       "    }\n",
       "\n",
       "    .dataframe tbody tr th {\n",
       "        vertical-align: top;\n",
       "    }\n",
       "\n",
       "    .dataframe thead th {\n",
       "        text-align: right;\n",
       "    }\n",
       "</style>\n",
       "<table border=\"1\" class=\"dataframe\">\n",
       "  <thead>\n",
       "    <tr style=\"text-align: right;\">\n",
       "      <th></th>\n",
       "      <th>NPLV</th>\n",
       "      <th>plavka_VR_NACH</th>\n",
       "      <th>plavka_VR_KON</th>\n",
       "      <th>plavka_NMZ</th>\n",
       "      <th>plavka_NAPR_ZAD</th>\n",
       "      <th>plavka_STFUT</th>\n",
       "      <th>plavka_TIPE_FUR</th>\n",
       "      <th>plavka_ST_FURM</th>\n",
       "      <th>plavka_TIPE_GOL</th>\n",
       "      <th>plavka_ST_GOL</th>\n",
       "    </tr>\n",
       "  </thead>\n",
       "  <tbody>\n",
       "    <tr>\n",
       "      <th>0</th>\n",
       "      <td>510008</td>\n",
       "      <td>2021-01-01 03:08:11</td>\n",
       "      <td>2021-01-01 03:51:10</td>\n",
       "      <td>С255</td>\n",
       "      <td>МНЛЗ</td>\n",
       "      <td>971</td>\n",
       "      <td>цилиндрическая</td>\n",
       "      <td>11</td>\n",
       "      <td>5 сопловая</td>\n",
       "      <td>11</td>\n",
       "    </tr>\n",
       "    <tr>\n",
       "      <th>1</th>\n",
       "      <td>510009</td>\n",
       "      <td>2021-01-01 04:00:44</td>\n",
       "      <td>2021-01-01 05:07:28</td>\n",
       "      <td>С255</td>\n",
       "      <td>МНЛЗ</td>\n",
       "      <td>972</td>\n",
       "      <td>цилиндрическая</td>\n",
       "      <td>12</td>\n",
       "      <td>5 сопловая</td>\n",
       "      <td>12</td>\n",
       "    </tr>\n",
       "    <tr>\n",
       "      <th>2</th>\n",
       "      <td>510010</td>\n",
       "      <td>2021-01-01 05:12:29</td>\n",
       "      <td>2021-01-01 06:00:53</td>\n",
       "      <td>Ст3пс/Э</td>\n",
       "      <td>Изл</td>\n",
       "      <td>973</td>\n",
       "      <td>цилиндрическая</td>\n",
       "      <td>13</td>\n",
       "      <td>5 сопловая</td>\n",
       "      <td>13</td>\n",
       "    </tr>\n",
       "    <tr>\n",
       "      <th>3</th>\n",
       "      <td>510011</td>\n",
       "      <td>2021-01-01 06:13:48</td>\n",
       "      <td>2021-01-01 07:08:39</td>\n",
       "      <td>Св-08А.z02</td>\n",
       "      <td>Изл</td>\n",
       "      <td>974</td>\n",
       "      <td>цилиндрическая</td>\n",
       "      <td>14</td>\n",
       "      <td>5 сопловая</td>\n",
       "      <td>14</td>\n",
       "    </tr>\n",
       "    <tr>\n",
       "      <th>4</th>\n",
       "      <td>510012</td>\n",
       "      <td>2021-01-01 07:13:44</td>\n",
       "      <td>2021-01-01 08:01:59</td>\n",
       "      <td>SC2M/ЭТ</td>\n",
       "      <td>МНЛС</td>\n",
       "      <td>975</td>\n",
       "      <td>цилиндрическая</td>\n",
       "      <td>15</td>\n",
       "      <td>5 сопловая</td>\n",
       "      <td>15</td>\n",
       "    </tr>\n",
       "    <tr>\n",
       "      <th>...</th>\n",
       "      <td>...</td>\n",
       "      <td>...</td>\n",
       "      <td>...</td>\n",
       "      <td>...</td>\n",
       "      <td>...</td>\n",
       "      <td>...</td>\n",
       "      <td>...</td>\n",
       "      <td>...</td>\n",
       "      <td>...</td>\n",
       "      <td>...</td>\n",
       "    </tr>\n",
       "    <tr>\n",
       "      <th>2057</th>\n",
       "      <td>512318</td>\n",
       "      <td>2021-04-26 13:04:26</td>\n",
       "      <td>2021-04-26 13:55:50</td>\n",
       "      <td>C071TM.z01/ЭТ</td>\n",
       "      <td>МНЛС</td>\n",
       "      <td>3281</td>\n",
       "      <td>коническая</td>\n",
       "      <td>22</td>\n",
       "      <td>5 сопловая</td>\n",
       "      <td>56</td>\n",
       "    </tr>\n",
       "    <tr>\n",
       "      <th>2058</th>\n",
       "      <td>512319</td>\n",
       "      <td>2021-04-26 14:10:20</td>\n",
       "      <td>2021-04-26 15:14:23</td>\n",
       "      <td>C071TM.z01/ЭТ</td>\n",
       "      <td>МНЛС</td>\n",
       "      <td>3282</td>\n",
       "      <td>коническая</td>\n",
       "      <td>23</td>\n",
       "      <td>5 сопловая</td>\n",
       "      <td>57</td>\n",
       "    </tr>\n",
       "    <tr>\n",
       "      <th>2059</th>\n",
       "      <td>512320</td>\n",
       "      <td>2021-04-26 15:21:37</td>\n",
       "      <td>2021-04-26 16:16:42</td>\n",
       "      <td>40Х.1</td>\n",
       "      <td>МНЛЗ</td>\n",
       "      <td>3283</td>\n",
       "      <td>коническая</td>\n",
       "      <td>24</td>\n",
       "      <td>5 сопловая</td>\n",
       "      <td>58</td>\n",
       "    </tr>\n",
       "    <tr>\n",
       "      <th>2060</th>\n",
       "      <td>512321</td>\n",
       "      <td>2021-04-26 16:22:37</td>\n",
       "      <td>2021-04-26 17:23:37</td>\n",
       "      <td>40Х.1</td>\n",
       "      <td>МНЛЗ</td>\n",
       "      <td>3284</td>\n",
       "      <td>коническая</td>\n",
       "      <td>25</td>\n",
       "      <td>5 сопловая</td>\n",
       "      <td>59</td>\n",
       "    </tr>\n",
       "    <tr>\n",
       "      <th>2061</th>\n",
       "      <td>512322</td>\n",
       "      <td>2021-04-26 17:28:00</td>\n",
       "      <td>2021-04-26 18:48:40</td>\n",
       "      <td>40Х.1</td>\n",
       "      <td>МНЛЗ</td>\n",
       "      <td>3285</td>\n",
       "      <td>коническая</td>\n",
       "      <td>26</td>\n",
       "      <td>5 сопловая</td>\n",
       "      <td>60</td>\n",
       "    </tr>\n",
       "  </tbody>\n",
       "</table>\n",
       "<p>2062 rows × 10 columns</p>\n",
       "</div>"
      ],
      "text/plain": [
       "        NPLV      plavka_VR_NACH       plavka_VR_KON       plavka_NMZ  \\\n",
       "0     510008 2021-01-01 03:08:11 2021-01-01 03:51:10  С255              \n",
       "1     510009 2021-01-01 04:00:44 2021-01-01 05:07:28  С255              \n",
       "2     510010 2021-01-01 05:12:29 2021-01-01 06:00:53  Ст3пс/Э           \n",
       "3     510011 2021-01-01 06:13:48 2021-01-01 07:08:39  Св-08А.z02        \n",
       "4     510012 2021-01-01 07:13:44 2021-01-01 08:01:59  SC2M/ЭТ           \n",
       "...      ...                 ...                 ...              ...   \n",
       "2057  512318 2021-04-26 13:04:26 2021-04-26 13:55:50  C071TM.z01/ЭТ     \n",
       "2058  512319 2021-04-26 14:10:20 2021-04-26 15:14:23  C071TM.z01/ЭТ     \n",
       "2059  512320 2021-04-26 15:21:37 2021-04-26 16:16:42  40Х.1             \n",
       "2060  512321 2021-04-26 16:22:37 2021-04-26 17:23:37  40Х.1             \n",
       "2061  512322 2021-04-26 17:28:00 2021-04-26 18:48:40  40Х.1             \n",
       "\n",
       "     plavka_NAPR_ZAD  plavka_STFUT plavka_TIPE_FUR  plavka_ST_FURM  \\\n",
       "0               МНЛЗ           971  цилиндрическая              11   \n",
       "1               МНЛЗ           972  цилиндрическая              12   \n",
       "2                Изл           973  цилиндрическая              13   \n",
       "3                Изл           974  цилиндрическая              14   \n",
       "4               МНЛС           975  цилиндрическая              15   \n",
       "...              ...           ...             ...             ...   \n",
       "2057            МНЛС          3281      коническая              22   \n",
       "2058            МНЛС          3282      коническая              23   \n",
       "2059            МНЛЗ          3283      коническая              24   \n",
       "2060            МНЛЗ          3284      коническая              25   \n",
       "2061            МНЛЗ          3285      коническая              26   \n",
       "\n",
       "           plavka_TIPE_GOL  plavka_ST_GOL  \n",
       "0     5 сопловая                       11  \n",
       "1     5 сопловая                       12  \n",
       "2     5 сопловая                       13  \n",
       "3     5 сопловая                       14  \n",
       "4     5 сопловая                       15  \n",
       "...                    ...            ...  \n",
       "2057  5 сопловая                       56  \n",
       "2058  5 сопловая                       57  \n",
       "2059  5 сопловая                       58  \n",
       "2060  5 сопловая                       59  \n",
       "2061  5 сопловая                       60  \n",
       "\n",
       "[2062 rows x 10 columns]"
      ]
     },
     "execution_count": 26,
     "metadata": {},
     "output_type": "execute_result"
    }
   ],
   "source": [
    "plavki_train = plavki_train.reset_index(drop=True)\n",
    "plavki_train"
   ]
  },
  {
   "cell_type": "code",
   "execution_count": 27,
   "metadata": {},
   "outputs": [
    {
     "data": {
      "text/html": [
       "<div>\n",
       "<style scoped>\n",
       "    .dataframe tbody tr th:only-of-type {\n",
       "        vertical-align: middle;\n",
       "    }\n",
       "\n",
       "    .dataframe tbody tr th {\n",
       "        vertical-align: top;\n",
       "    }\n",
       "\n",
       "    .dataframe thead th {\n",
       "        text-align: right;\n",
       "    }\n",
       "</style>\n",
       "<table border=\"1\" class=\"dataframe\">\n",
       "  <thead>\n",
       "    <tr style=\"text-align: right;\">\n",
       "      <th></th>\n",
       "      <th>NPLV</th>\n",
       "      <th>VDSYP</th>\n",
       "      <th>NMSYP</th>\n",
       "      <th>VSSYP</th>\n",
       "      <th>DAT_OTD</th>\n",
       "    </tr>\n",
       "  </thead>\n",
       "  <tbody>\n",
       "    <tr>\n",
       "      <th>0</th>\n",
       "      <td>510008</td>\n",
       "      <td>346</td>\n",
       "      <td>Уголь ТО</td>\n",
       "      <td>570</td>\n",
       "      <td>2021-01-01 03:03:53</td>\n",
       "    </tr>\n",
       "    <tr>\n",
       "      <th>1</th>\n",
       "      <td>510008</td>\n",
       "      <td>346</td>\n",
       "      <td>Уголь ТО</td>\n",
       "      <td>220</td>\n",
       "      <td>2021-01-01 03:04:10</td>\n",
       "    </tr>\n",
       "    <tr>\n",
       "      <th>2</th>\n",
       "      <td>510008</td>\n",
       "      <td>408</td>\n",
       "      <td>изв_ЦОИ</td>\n",
       "      <td>7300</td>\n",
       "      <td>2021-01-01 03:08:17</td>\n",
       "    </tr>\n",
       "    <tr>\n",
       "      <th>3</th>\n",
       "      <td>510008</td>\n",
       "      <td>346</td>\n",
       "      <td>Уголь ТО</td>\n",
       "      <td>270</td>\n",
       "      <td>2021-01-01 03:09:03</td>\n",
       "    </tr>\n",
       "    <tr>\n",
       "      <th>4</th>\n",
       "      <td>510008</td>\n",
       "      <td>346</td>\n",
       "      <td>Уголь ТО</td>\n",
       "      <td>430</td>\n",
       "      <td>2021-01-01 03:09:20</td>\n",
       "    </tr>\n",
       "  </tbody>\n",
       "</table>\n",
       "</div>"
      ],
      "text/plain": [
       "     NPLV  VDSYP     NMSYP  VSSYP             DAT_OTD\n",
       "0  510008    346  Уголь ТО    570 2021-01-01 03:03:53\n",
       "1  510008    346  Уголь ТО    220 2021-01-01 03:04:10\n",
       "2  510008    408   изв_ЦОИ   7300 2021-01-01 03:08:17\n",
       "3  510008    346  Уголь ТО    270 2021-01-01 03:09:03\n",
       "4  510008    346  Уголь ТО    430 2021-01-01 03:09:20"
      ]
     },
     "execution_count": 27,
     "metadata": {},
     "output_type": "execute_result"
    }
   ],
   "source": [
    "sip_train.head()"
   ]
  },
  {
   "cell_type": "code",
   "execution_count": 28,
   "metadata": {},
   "outputs": [
    {
     "data": {
      "text/html": [
       "<div>\n",
       "<style scoped>\n",
       "    .dataframe tbody tr th:only-of-type {\n",
       "        vertical-align: middle;\n",
       "    }\n",
       "\n",
       "    .dataframe tbody tr th {\n",
       "        vertical-align: top;\n",
       "    }\n",
       "\n",
       "    .dataframe thead th {\n",
       "        text-align: right;\n",
       "    }\n",
       "</style>\n",
       "<table border=\"1\" class=\"dataframe\">\n",
       "  <thead>\n",
       "    <tr style=\"text-align: right;\">\n",
       "      <th></th>\n",
       "      <th>NPLV</th>\n",
       "      <th>VDSYP</th>\n",
       "      <th>NMSYP</th>\n",
       "      <th>VSSYP</th>\n",
       "      <th>DAT_OTD</th>\n",
       "    </tr>\n",
       "  </thead>\n",
       "  <tbody>\n",
       "    <tr>\n",
       "      <th>0</th>\n",
       "      <td>510008</td>\n",
       "      <td>346</td>\n",
       "      <td>Уголь ТО</td>\n",
       "      <td>570</td>\n",
       "      <td>2021-01-01 03:03:53</td>\n",
       "    </tr>\n",
       "    <tr>\n",
       "      <th>1</th>\n",
       "      <td>510008</td>\n",
       "      <td>346</td>\n",
       "      <td>Уголь ТО</td>\n",
       "      <td>220</td>\n",
       "      <td>2021-01-01 03:04:10</td>\n",
       "    </tr>\n",
       "    <tr>\n",
       "      <th>2</th>\n",
       "      <td>510008</td>\n",
       "      <td>408</td>\n",
       "      <td>изв_ЦОИ</td>\n",
       "      <td>7300</td>\n",
       "      <td>2021-01-01 03:08:17</td>\n",
       "    </tr>\n",
       "    <tr>\n",
       "      <th>3</th>\n",
       "      <td>510008</td>\n",
       "      <td>346</td>\n",
       "      <td>Уголь ТО</td>\n",
       "      <td>270</td>\n",
       "      <td>2021-01-01 03:09:03</td>\n",
       "    </tr>\n",
       "    <tr>\n",
       "      <th>4</th>\n",
       "      <td>510008</td>\n",
       "      <td>346</td>\n",
       "      <td>Уголь ТО</td>\n",
       "      <td>430</td>\n",
       "      <td>2021-01-01 03:09:20</td>\n",
       "    </tr>\n",
       "    <tr>\n",
       "      <th>5</th>\n",
       "      <td>510008</td>\n",
       "      <td>346</td>\n",
       "      <td>Уголь ТО</td>\n",
       "      <td>1460</td>\n",
       "      <td>2021-01-01 03:10:22</td>\n",
       "    </tr>\n",
       "    <tr>\n",
       "      <th>6</th>\n",
       "      <td>510008</td>\n",
       "      <td>408</td>\n",
       "      <td>изв_ЦОИ</td>\n",
       "      <td>810</td>\n",
       "      <td>2021-01-01 03:11:39</td>\n",
       "    </tr>\n",
       "    <tr>\n",
       "      <th>7</th>\n",
       "      <td>510008</td>\n",
       "      <td>171</td>\n",
       "      <td>Флюс ФОМИ</td>\n",
       "      <td>980</td>\n",
       "      <td>2021-01-01 03:11:39</td>\n",
       "    </tr>\n",
       "    <tr>\n",
       "      <th>8</th>\n",
       "      <td>510008</td>\n",
       "      <td>442</td>\n",
       "      <td>ФЛЮМАГ</td>\n",
       "      <td>2960</td>\n",
       "      <td>2021-01-01 03:14:36</td>\n",
       "    </tr>\n",
       "    <tr>\n",
       "      <th>9</th>\n",
       "      <td>510008</td>\n",
       "      <td>408</td>\n",
       "      <td>изв_ЦОИ</td>\n",
       "      <td>2010</td>\n",
       "      <td>2021-01-01 03:27:26</td>\n",
       "    </tr>\n",
       "    <tr>\n",
       "      <th>10</th>\n",
       "      <td>510008</td>\n",
       "      <td>408</td>\n",
       "      <td>изв_ЦОИ</td>\n",
       "      <td>1980</td>\n",
       "      <td>2021-01-01 03:30:19</td>\n",
       "    </tr>\n",
       "    <tr>\n",
       "      <th>11</th>\n",
       "      <td>510008</td>\n",
       "      <td>408</td>\n",
       "      <td>изв_ЦОИ</td>\n",
       "      <td>1980</td>\n",
       "      <td>2021-01-01 03:33:48</td>\n",
       "    </tr>\n",
       "  </tbody>\n",
       "</table>\n",
       "</div>"
      ],
      "text/plain": [
       "      NPLV  VDSYP      NMSYP  VSSYP             DAT_OTD\n",
       "0   510008    346   Уголь ТО    570 2021-01-01 03:03:53\n",
       "1   510008    346   Уголь ТО    220 2021-01-01 03:04:10\n",
       "2   510008    408    изв_ЦОИ   7300 2021-01-01 03:08:17\n",
       "3   510008    346   Уголь ТО    270 2021-01-01 03:09:03\n",
       "4   510008    346   Уголь ТО    430 2021-01-01 03:09:20\n",
       "5   510008    346   Уголь ТО   1460 2021-01-01 03:10:22\n",
       "6   510008    408    изв_ЦОИ    810 2021-01-01 03:11:39\n",
       "7   510008    171  Флюс ФОМИ    980 2021-01-01 03:11:39\n",
       "8   510008    442     ФЛЮМАГ   2960 2021-01-01 03:14:36\n",
       "9   510008    408    изв_ЦОИ   2010 2021-01-01 03:27:26\n",
       "10  510008    408    изв_ЦОИ   1980 2021-01-01 03:30:19\n",
       "11  510008    408    изв_ЦОИ   1980 2021-01-01 03:33:48"
      ]
     },
     "execution_count": 28,
     "metadata": {},
     "output_type": "execute_result"
    }
   ],
   "source": [
    "sip_train[sip_train['NPLV']==510008]"
   ]
  },
  {
   "cell_type": "code",
   "execution_count": 29,
   "metadata": {},
   "outputs": [
    {
     "data": {
      "text/plain": [
       "NPLV\n",
       "512129     3\n",
       "512212     3\n",
       "511965     3\n",
       "512223     3\n",
       "512051     3\n",
       "          ..\n",
       "511862    32\n",
       "510200    34\n",
       "510032    34\n",
       "511232    39\n",
       "511827    43\n",
       "Name: NPLV, Length: 2063, dtype: int64"
      ]
     },
     "execution_count": 29,
     "metadata": {},
     "output_type": "execute_result"
    }
   ],
   "source": [
    "sip_train.groupby('NPLV')['NPLV'].count().sort_values()"
   ]
  },
  {
   "cell_type": "code",
   "execution_count": 30,
   "metadata": {},
   "outputs": [
    {
     "data": {
      "text/plain": [
       "<AxesSubplot:>"
      ]
     },
     "execution_count": 30,
     "metadata": {},
     "output_type": "execute_result"
    },
    {
     "data": {
      "image/png": "[encoded data removed]",
      "text/plain": [
       "<Figure size 432x288 with 1 Axes>"
      ]
     },
     "metadata": {
      "needs_background": "light"
     },
     "output_type": "display_data"
    }
   ],
   "source": [
    "sip_train.NMSYP.hist()"
   ]
  },
  {
   "cell_type": "code",
   "execution_count": 31,
   "metadata": {},
   "outputs": [
    {
     "data": {
      "text/plain": [
       "<AxesSubplot:>"
      ]
     },
     "execution_count": 31,
     "metadata": {},
     "output_type": "execute_result"
    },
    {
     "data": {
      "image/png": "[encoded data removed]",
      "text/plain": [
       "<Figure size 432x288 with 1 Axes>"
      ]
     },
     "metadata": {
      "needs_background": "light"
     },
     "output_type": "display_data"
    }
   ],
   "source": [
    "sip_train.VSSYP.hist()"
   ]
  },
  {
   "cell_type": "code",
   "execution_count": 32,
   "metadata": {},
   "outputs": [
    {
     "data": {
      "text/html": [
       "<div>\n",
       "<style scoped>\n",
       "    .dataframe tbody tr th:only-of-type {\n",
       "        vertical-align: middle;\n",
       "    }\n",
       "\n",
       "    .dataframe tbody tr th {\n",
       "        vertical-align: top;\n",
       "    }\n",
       "\n",
       "    .dataframe thead th {\n",
       "        text-align: right;\n",
       "    }\n",
       "</style>\n",
       "<table border=\"1\" class=\"dataframe\">\n",
       "  <thead>\n",
       "    <tr style=\"text-align: right;\">\n",
       "      <th></th>\n",
       "      <th>NPLV</th>\n",
       "      <th>TYPE_OPER</th>\n",
       "      <th>NOP</th>\n",
       "      <th>VR_NACH</th>\n",
       "      <th>VR_KON</th>\n",
       "      <th>O2</th>\n",
       "    </tr>\n",
       "  </thead>\n",
       "  <tbody>\n",
       "    <tr>\n",
       "      <th>0</th>\n",
       "      <td>510008</td>\n",
       "      <td>межпл.прост.</td>\n",
       "      <td>межпл. простой</td>\n",
       "      <td>2011-01-01 10:28:13</td>\n",
       "      <td>2011-01-01 10:32:15</td>\n",
       "      <td>NaN</td>\n",
       "    </tr>\n",
       "    <tr>\n",
       "      <th>1</th>\n",
       "      <td>510008</td>\n",
       "      <td>межпл.прост.</td>\n",
       "      <td>межпл. простой</td>\n",
       "      <td>2021-01-01 03:01:07</td>\n",
       "      <td>2021-01-01 03:08:11</td>\n",
       "      <td>NaN</td>\n",
       "    </tr>\n",
       "    <tr>\n",
       "      <th>2</th>\n",
       "      <td>510008</td>\n",
       "      <td>межпл.прост.</td>\n",
       "      <td>Осмотр конвертера</td>\n",
       "      <td>2021-01-01 03:01:19</td>\n",
       "      <td>2021-01-01 03:03:43</td>\n",
       "      <td>NaN</td>\n",
       "    </tr>\n",
       "    <tr>\n",
       "      <th>3</th>\n",
       "      <td>510008</td>\n",
       "      <td>межпл.прост.</td>\n",
       "      <td>Наведение гарнисажа</td>\n",
       "      <td>2021-01-01 03:03:43</td>\n",
       "      <td>2021-01-01 03:05:23</td>\n",
       "      <td>NaN</td>\n",
       "    </tr>\n",
       "    <tr>\n",
       "      <th>4</th>\n",
       "      <td>510008</td>\n",
       "      <td>межпл.прост.</td>\n",
       "      <td>Слив шлака</td>\n",
       "      <td>2021-01-01 03:05:23</td>\n",
       "      <td>2021-01-01 03:06:09</td>\n",
       "      <td>NaN</td>\n",
       "    </tr>\n",
       "  </tbody>\n",
       "</table>\n",
       "</div>"
      ],
      "text/plain": [
       "     NPLV     TYPE_OPER                  NOP             VR_NACH  \\\n",
       "0  510008  межпл.прост.       межпл. простой 2011-01-01 10:28:13   \n",
       "1  510008  межпл.прост.       межпл. простой 2021-01-01 03:01:07   \n",
       "2  510008  межпл.прост.    Осмотр конвертера 2021-01-01 03:01:19   \n",
       "3  510008  межпл.прост.  Наведение гарнисажа 2021-01-01 03:03:43   \n",
       "4  510008  межпл.прост.           Слив шлака 2021-01-01 03:05:23   \n",
       "\n",
       "               VR_KON  O2  \n",
       "0 2011-01-01 10:32:15 NaN  \n",
       "1 2021-01-01 03:08:11 NaN  \n",
       "2 2021-01-01 03:03:43 NaN  \n",
       "3 2021-01-01 03:05:23 NaN  \n",
       "4 2021-01-01 03:06:09 NaN  "
      ]
     },
     "execution_count": 32,
     "metadata": {},
     "output_type": "execute_result"
    }
   ],
   "source": [
    "chronom_train.head()"
   ]
  },
  {
   "cell_type": "code",
   "execution_count": 33,
   "metadata": {},
   "outputs": [
    {
     "data": {
      "text/plain": [
       "(34406, 6)"
      ]
     },
     "execution_count": 33,
     "metadata": {},
     "output_type": "execute_result"
    }
   ],
   "source": [
    "chronom_train.shape"
   ]
  },
  {
   "cell_type": "code",
   "execution_count": 34,
   "metadata": {},
   "outputs": [
    {
     "data": {
      "text/plain": [
       "<AxesSubplot:>"
      ]
     },
     "execution_count": 34,
     "metadata": {},
     "output_type": "execute_result"
    },
    {
     "data": {
      "image/png": "[encoded data removed]",
      "text/plain": [
       "<Figure size 432x288 with 1 Axes>"
      ]
     },
     "metadata": {
      "needs_background": "light"
     },
     "output_type": "display_data"
    }
   ],
   "source": [
    "chronom_train.groupby('NPLV')['NPLV'].count().hist()"
   ]
  },
  {
   "cell_type": "code",
   "execution_count": 35,
   "metadata": {},
   "outputs": [
    {
     "data": {
      "text/html": [
       "<div>\n",
       "<style scoped>\n",
       "    .dataframe tbody tr th:only-of-type {\n",
       "        vertical-align: middle;\n",
       "    }\n",
       "\n",
       "    .dataframe tbody tr th {\n",
       "        vertical-align: top;\n",
       "    }\n",
       "\n",
       "    .dataframe thead th {\n",
       "        text-align: right;\n",
       "    }\n",
       "</style>\n",
       "<table border=\"1\" class=\"dataframe\">\n",
       "  <thead>\n",
       "    <tr style=\"text-align: right;\">\n",
       "      <th></th>\n",
       "      <th>NPLV</th>\n",
       "      <th>TYPE_OPER</th>\n",
       "      <th>NOP</th>\n",
       "      <th>VR_NACH</th>\n",
       "      <th>VR_KON</th>\n",
       "      <th>O2</th>\n",
       "    </tr>\n",
       "  </thead>\n",
       "  <tbody>\n",
       "    <tr>\n",
       "      <th>0</th>\n",
       "      <td>510008</td>\n",
       "      <td>межпл.прост.</td>\n",
       "      <td>межпл. простой</td>\n",
       "      <td>2011-01-01 10:28:13</td>\n",
       "      <td>2011-01-01 10:32:15</td>\n",
       "      <td>NaN</td>\n",
       "    </tr>\n",
       "    <tr>\n",
       "      <th>16</th>\n",
       "      <td>510009</td>\n",
       "      <td>межпл.прост.</td>\n",
       "      <td>межпл. простой</td>\n",
       "      <td>2011-01-01 11:27:20</td>\n",
       "      <td>2011-01-01 11:31:51</td>\n",
       "      <td>NaN</td>\n",
       "    </tr>\n",
       "    <tr>\n",
       "      <th>34</th>\n",
       "      <td>510010</td>\n",
       "      <td>межпл.прост.</td>\n",
       "      <td>межпл. простой</td>\n",
       "      <td>2011-01-01 12:28:03</td>\n",
       "      <td>2011-01-01 12:33:16</td>\n",
       "      <td>NaN</td>\n",
       "    </tr>\n",
       "    <tr>\n",
       "      <th>48</th>\n",
       "      <td>510011</td>\n",
       "      <td>межпл.прост.</td>\n",
       "      <td>межпл. простой</td>\n",
       "      <td>2011-01-01 13:17:52</td>\n",
       "      <td>2011-01-01 13:28:18</td>\n",
       "      <td>NaN</td>\n",
       "    </tr>\n",
       "    <tr>\n",
       "      <th>63</th>\n",
       "      <td>510012</td>\n",
       "      <td>межпл.прост.</td>\n",
       "      <td>межпл. простой</td>\n",
       "      <td>2011-01-01 14:31:03</td>\n",
       "      <td>2011-01-01 14:41:27</td>\n",
       "      <td>NaN</td>\n",
       "    </tr>\n",
       "    <tr>\n",
       "      <th>...</th>\n",
       "      <td>...</td>\n",
       "      <td>...</td>\n",
       "      <td>...</td>\n",
       "      <td>...</td>\n",
       "      <td>...</td>\n",
       "      <td>...</td>\n",
       "    </tr>\n",
       "    <tr>\n",
       "      <th>34341</th>\n",
       "      <td>512319</td>\n",
       "      <td>межпл.прост.</td>\n",
       "      <td>межпл. простой</td>\n",
       "      <td>2011-05-07 16:16:44</td>\n",
       "      <td>2011-05-07 16:27:44</td>\n",
       "      <td>NaN</td>\n",
       "    </tr>\n",
       "    <tr>\n",
       "      <th>34342</th>\n",
       "      <td>512319</td>\n",
       "      <td>вн.пл.прост.</td>\n",
       "      <td>Отсутствие чугуна</td>\n",
       "      <td>2011-05-07 16:36:12</td>\n",
       "      <td>2011-05-07 16:48:18</td>\n",
       "      <td>NaN</td>\n",
       "    </tr>\n",
       "    <tr>\n",
       "      <th>34359</th>\n",
       "      <td>512320</td>\n",
       "      <td>межпл.прост.</td>\n",
       "      <td>межпл. простой</td>\n",
       "      <td>2011-05-07 17:29:53</td>\n",
       "      <td>2011-05-07 17:37:24</td>\n",
       "      <td>NaN</td>\n",
       "    </tr>\n",
       "    <tr>\n",
       "      <th>34374</th>\n",
       "      <td>512321</td>\n",
       "      <td>межпл.прост.</td>\n",
       "      <td>межпл. простой</td>\n",
       "      <td>2011-05-07 18:20:06</td>\n",
       "      <td>2011-05-07 18:29:19</td>\n",
       "      <td>NaN</td>\n",
       "    </tr>\n",
       "    <tr>\n",
       "      <th>34391</th>\n",
       "      <td>512322</td>\n",
       "      <td>межпл.прост.</td>\n",
       "      <td>межпл. простой</td>\n",
       "      <td>2011-05-07 19:14:45</td>\n",
       "      <td>2011-05-07 19:18:24</td>\n",
       "      <td>NaN</td>\n",
       "    </tr>\n",
       "  </tbody>\n",
       "</table>\n",
       "<p>2415 rows × 6 columns</p>\n",
       "</div>"
      ],
      "text/plain": [
       "         NPLV     TYPE_OPER                NOP             VR_NACH  \\\n",
       "0      510008  межпл.прост.     межпл. простой 2011-01-01 10:28:13   \n",
       "16     510009  межпл.прост.     межпл. простой 2011-01-01 11:27:20   \n",
       "34     510010  межпл.прост.     межпл. простой 2011-01-01 12:28:03   \n",
       "48     510011  межпл.прост.     межпл. простой 2011-01-01 13:17:52   \n",
       "63     510012  межпл.прост.     межпл. простой 2011-01-01 14:31:03   \n",
       "...       ...           ...                ...                 ...   \n",
       "34341  512319  межпл.прост.     межпл. простой 2011-05-07 16:16:44   \n",
       "34342  512319  вн.пл.прост.  Отсутствие чугуна 2011-05-07 16:36:12   \n",
       "34359  512320  межпл.прост.     межпл. простой 2011-05-07 17:29:53   \n",
       "34374  512321  межпл.прост.     межпл. простой 2011-05-07 18:20:06   \n",
       "34391  512322  межпл.прост.     межпл. простой 2011-05-07 19:14:45   \n",
       "\n",
       "                   VR_KON  O2  \n",
       "0     2011-01-01 10:32:15 NaN  \n",
       "16    2011-01-01 11:31:51 NaN  \n",
       "34    2011-01-01 12:33:16 NaN  \n",
       "48    2011-01-01 13:28:18 NaN  \n",
       "63    2011-01-01 14:41:27 NaN  \n",
       "...                   ...  ..  \n",
       "34341 2011-05-07 16:27:44 NaN  \n",
       "34342 2011-05-07 16:48:18 NaN  \n",
       "34359 2011-05-07 17:37:24 NaN  \n",
       "34374 2011-05-07 18:29:19 NaN  \n",
       "34391 2011-05-07 19:18:24 NaN  \n",
       "\n",
       "[2415 rows x 6 columns]"
      ]
     },
     "execution_count": 35,
     "metadata": {},
     "output_type": "execute_result"
    }
   ],
   "source": [
    "chronom_train[chronom_train.VR_NACH < '2021-01-01']"
   ]
  },
  {
   "cell_type": "code",
   "execution_count": 36,
   "metadata": {},
   "outputs": [
    {
     "data": {
      "text/plain": [
       "опер            21442\n",
       "межпл.прост.    11420\n",
       "вн.пл.прост.     1544\n",
       "Name: TYPE_OPER, dtype: int64"
      ]
     },
     "execution_count": 36,
     "metadata": {},
     "output_type": "execute_result"
    }
   ],
   "source": [
    "chronom_train['TYPE_OPER'].value_counts()"
   ]
  },
  {
   "cell_type": "code",
   "execution_count": 37,
   "metadata": {},
   "outputs": [
    {
     "data": {
      "text/plain": [
       "Слив шлака              4264\n",
       "межпл. простой          4125\n",
       "Нагрев лома             3664\n",
       "Повалка                 3356\n",
       "Выпуск металла          2065\n",
       "Заливка чугуна          2063\n",
       "Завалка лома            2063\n",
       "Продувка                2063\n",
       "Наведение гарнисажа     2027\n",
       "Прерыв. выпуска         2015\n",
       "Осмотр конвертера       1853\n",
       "Отсечка шлака            860\n",
       "Отсутствие чугуна        630\n",
       "Додувка на t             557\n",
       "Додувка на C             531\n",
       "Обрыв горловины          434\n",
       "Наложение продувки       327\n",
       "Вхождение в гр.МНЛЗ      322\n",
       "Полусухое торкрет.       182\n",
       "Отсутствие O2            155\n",
       "Неиспр. электр. обор     149\n",
       "Охл. азотом              143\n",
       "Подварка  футеровки      141\n",
       "Ожидание стальковша       79\n",
       "Замер положения фурм      72\n",
       "Неиспр. механ. обор.      64\n",
       "Отсутствие мет.шихты      49\n",
       "Замена фурмы              36\n",
       "ППР                       34\n",
       "Ожидание шл.чаш           30\n",
       "Отсут. своб.разл.пл.      23\n",
       "Ремонт летки              13\n",
       "Неиспр. энерг. обор       11\n",
       "Неиспр. АСУ и КИПиА        5\n",
       "Скач. шлака                1\n",
       "Name: NOP, dtype: int64"
      ]
     },
     "execution_count": 37,
     "metadata": {},
     "output_type": "execute_result"
    }
   ],
   "source": [
    "chronom_train['NOP'].value_counts()"
   ]
  },
  {
   "cell_type": "code",
   "execution_count": 38,
   "metadata": {},
   "outputs": [
    {
     "data": {
      "text/plain": [
       "Нагрев лома     1798\n",
       "Додувка на t     549\n",
       "Додувка на C     524\n",
       "Name: NOP, dtype: int64"
      ]
     },
     "execution_count": 38,
     "metadata": {},
     "output_type": "execute_result"
    }
   ],
   "source": [
    "chronom_train[chronom_train['O2']>0]['NOP'].value_counts()"
   ]
  },
  {
   "cell_type": "code",
   "execution_count": 39,
   "metadata": {},
   "outputs": [
    {
     "data": {
      "text/plain": [
       "0.0       45\n",
       "1.0       38\n",
       "1819.0    10\n",
       "1895.0     8\n",
       "1512.0     8\n",
       "          ..\n",
       "1537.0     1\n",
       "2064.0     1\n",
       "1551.0     1\n",
       "2597.0     1\n",
       "2560.0     1\n",
       "Name: O2, Length: 1547, dtype: int64"
      ]
     },
     "execution_count": 39,
     "metadata": {},
     "output_type": "execute_result"
    }
   ],
   "source": [
    "chronom_train['O2'].value_counts()"
   ]
  },
  {
   "cell_type": "code",
   "execution_count": 40,
   "metadata": {},
   "outputs": [
    {
     "data": {
      "text/html": [
       "<div>\n",
       "<style scoped>\n",
       "    .dataframe tbody tr th:only-of-type {\n",
       "        vertical-align: middle;\n",
       "    }\n",
       "\n",
       "    .dataframe tbody tr th {\n",
       "        vertical-align: top;\n",
       "    }\n",
       "\n",
       "    .dataframe thead th {\n",
       "        text-align: right;\n",
       "    }\n",
       "</style>\n",
       "<table border=\"1\" class=\"dataframe\">\n",
       "  <thead>\n",
       "    <tr style=\"text-align: right;\">\n",
       "      <th></th>\n",
       "      <th>NPLV</th>\n",
       "      <th>VES</th>\n",
       "      <th>T</th>\n",
       "      <th>SI</th>\n",
       "      <th>MN</th>\n",
       "      <th>S</th>\n",
       "      <th>P</th>\n",
       "      <th>CR</th>\n",
       "      <th>NI</th>\n",
       "      <th>CU</th>\n",
       "      <th>V</th>\n",
       "      <th>TI</th>\n",
       "      <th>DATA_ZAMERA</th>\n",
       "    </tr>\n",
       "  </thead>\n",
       "  <tbody>\n",
       "    <tr>\n",
       "      <th>0</th>\n",
       "      <td>510008</td>\n",
       "      <td>263700.0</td>\n",
       "      <td>1396.0</td>\n",
       "      <td>0.44</td>\n",
       "      <td>0.22</td>\n",
       "      <td>0.023</td>\n",
       "      <td>0.097</td>\n",
       "      <td>0.03</td>\n",
       "      <td>0.01</td>\n",
       "      <td>0.03</td>\n",
       "      <td>0.103</td>\n",
       "      <td>0.084</td>\n",
       "      <td>2021-01-01 03:15:03</td>\n",
       "    </tr>\n",
       "    <tr>\n",
       "      <th>1</th>\n",
       "      <td>510009</td>\n",
       "      <td>264500.0</td>\n",
       "      <td>1419.0</td>\n",
       "      <td>0.68</td>\n",
       "      <td>0.20</td>\n",
       "      <td>0.017</td>\n",
       "      <td>0.087</td>\n",
       "      <td>0.02</td>\n",
       "      <td>0.01</td>\n",
       "      <td>0.03</td>\n",
       "      <td>0.084</td>\n",
       "      <td>0.096</td>\n",
       "      <td>2021-01-01 04:23:48</td>\n",
       "    </tr>\n",
       "    <tr>\n",
       "      <th>2</th>\n",
       "      <td>510010</td>\n",
       "      <td>263800.0</td>\n",
       "      <td>1384.0</td>\n",
       "      <td>0.56</td>\n",
       "      <td>0.26</td>\n",
       "      <td>0.017</td>\n",
       "      <td>0.096</td>\n",
       "      <td>0.03</td>\n",
       "      <td>0.01</td>\n",
       "      <td>0.03</td>\n",
       "      <td>0.115</td>\n",
       "      <td>0.110</td>\n",
       "      <td>2021-01-01 05:21:40</td>\n",
       "    </tr>\n",
       "    <tr>\n",
       "      <th>3</th>\n",
       "      <td>510011</td>\n",
       "      <td>264000.0</td>\n",
       "      <td>1401.0</td>\n",
       "      <td>0.48</td>\n",
       "      <td>0.27</td>\n",
       "      <td>0.018</td>\n",
       "      <td>0.091</td>\n",
       "      <td>0.03</td>\n",
       "      <td>0.01</td>\n",
       "      <td>0.02</td>\n",
       "      <td>0.112</td>\n",
       "      <td>0.110</td>\n",
       "      <td>2021-01-01 06:20:57</td>\n",
       "    </tr>\n",
       "    <tr>\n",
       "      <th>4</th>\n",
       "      <td>510012</td>\n",
       "      <td>263300.0</td>\n",
       "      <td>1422.0</td>\n",
       "      <td>0.47</td>\n",
       "      <td>0.23</td>\n",
       "      <td>0.018</td>\n",
       "      <td>0.096</td>\n",
       "      <td>0.02</td>\n",
       "      <td>0.01</td>\n",
       "      <td>0.03</td>\n",
       "      <td>0.083</td>\n",
       "      <td>0.070</td>\n",
       "      <td>2021-01-01 07:23:02</td>\n",
       "    </tr>\n",
       "  </tbody>\n",
       "</table>\n",
       "</div>"
      ],
      "text/plain": [
       "     NPLV       VES       T    SI    MN      S      P    CR    NI    CU  \\\n",
       "0  510008  263700.0  1396.0  0.44  0.22  0.023  0.097  0.03  0.01  0.03   \n",
       "1  510009  264500.0  1419.0  0.68  0.20  0.017  0.087  0.02  0.01  0.03   \n",
       "2  510010  263800.0  1384.0  0.56  0.26  0.017  0.096  0.03  0.01  0.03   \n",
       "3  510011  264000.0  1401.0  0.48  0.27  0.018  0.091  0.03  0.01  0.02   \n",
       "4  510012  263300.0  1422.0  0.47  0.23  0.018  0.096  0.02  0.01  0.03   \n",
       "\n",
       "       V     TI         DATA_ZAMERA  \n",
       "0  0.103  0.084 2021-01-01 03:15:03  \n",
       "1  0.084  0.096 2021-01-01 04:23:48  \n",
       "2  0.115  0.110 2021-01-01 05:21:40  \n",
       "3  0.112  0.110 2021-01-01 06:20:57  \n",
       "4  0.083  0.070 2021-01-01 07:23:02  "
      ]
     },
     "execution_count": 40,
     "metadata": {},
     "output_type": "execute_result"
    }
   ],
   "source": [
    "chugun_train.head()"
   ]
  },
  {
   "cell_type": "code",
   "execution_count": 41,
   "metadata": {},
   "outputs": [
    {
     "data": {
      "text/plain": [
       "(2063, 13)"
      ]
     },
     "execution_count": 41,
     "metadata": {},
     "output_type": "execute_result"
    }
   ],
   "source": [
    "chugun_train.shape"
   ]
  },
  {
   "cell_type": "code",
   "execution_count": 42,
   "metadata": {},
   "outputs": [
    {
     "data": {
      "text/plain": [
       "<AxesSubplot:>"
      ]
     },
     "execution_count": 42,
     "metadata": {},
     "output_type": "execute_result"
    },
    {
     "data": {
      "image/png": "[encoded data removed]",
      "text/plain": [
       "<Figure size 432x288 with 1 Axes>"
      ]
     },
     "metadata": {
      "needs_background": "light"
     },
     "output_type": "display_data"
    }
   ],
   "source": [
    "chugun_train['VES'].hist()"
   ]
  },
  {
   "cell_type": "code",
   "execution_count": 43,
   "metadata": {},
   "outputs": [
    {
     "data": {
      "text/plain": [
       "<AxesSubplot:>"
      ]
     },
     "execution_count": 43,
     "metadata": {},
     "output_type": "execute_result"
    },
    {
     "data": {
      "image/png": "[encoded data removed]",
      "text/plain": [
       "<Figure size 432x288 with 1 Axes>"
      ]
     },
     "metadata": {
      "needs_background": "light"
     },
     "output_type": "display_data"
    }
   ],
   "source": [
    "chugun_train['T'].hist()"
   ]
  },
  {
   "cell_type": "code",
   "execution_count": 44,
   "metadata": {},
   "outputs": [
    {
     "data": {
      "text/html": [
       "<div>\n",
       "<style scoped>\n",
       "    .dataframe tbody tr th:only-of-type {\n",
       "        vertical-align: middle;\n",
       "    }\n",
       "\n",
       "    .dataframe tbody tr th {\n",
       "        vertical-align: top;\n",
       "    }\n",
       "\n",
       "    .dataframe thead th {\n",
       "        text-align: right;\n",
       "    }\n",
       "</style>\n",
       "<table border=\"1\" class=\"dataframe\">\n",
       "  <thead>\n",
       "    <tr style=\"text-align: right;\">\n",
       "      <th></th>\n",
       "      <th>NPLV</th>\n",
       "      <th>Time</th>\n",
       "      <th>V</th>\n",
       "      <th>T</th>\n",
       "      <th>O2</th>\n",
       "      <th>N2</th>\n",
       "      <th>H2</th>\n",
       "      <th>CO2</th>\n",
       "      <th>CO</th>\n",
       "      <th>AR</th>\n",
       "      <th>T фурмы 1</th>\n",
       "      <th>T фурмы 2</th>\n",
       "      <th>O2_pressure</th>\n",
       "    </tr>\n",
       "  </thead>\n",
       "  <tbody>\n",
       "    <tr>\n",
       "      <th>0</th>\n",
       "      <td>510008</td>\n",
       "      <td>2021-01-01 03:08:11.437</td>\n",
       "      <td>218263.343750</td>\n",
       "      <td>262.847229</td>\n",
       "      <td>18.722993</td>\n",
       "      <td>80.132247</td>\n",
       "      <td>0.087755</td>\n",
       "      <td>0.163878</td>\n",
       "      <td>0.009229</td>\n",
       "      <td>0.893243</td>\n",
       "      <td>0.0</td>\n",
       "      <td>0.0</td>\n",
       "      <td>13.085938</td>\n",
       "    </tr>\n",
       "    <tr>\n",
       "      <th>1</th>\n",
       "      <td>510008</td>\n",
       "      <td>2021-01-01 03:08:12.437</td>\n",
       "      <td>218263.343750</td>\n",
       "      <td>262.847229</td>\n",
       "      <td>18.732721</td>\n",
       "      <td>80.138406</td>\n",
       "      <td>0.087959</td>\n",
       "      <td>0.148980</td>\n",
       "      <td>0.008390</td>\n",
       "      <td>0.892948</td>\n",
       "      <td>0.0</td>\n",
       "      <td>0.0</td>\n",
       "      <td>13.085938</td>\n",
       "    </tr>\n",
       "    <tr>\n",
       "      <th>2</th>\n",
       "      <td>510008</td>\n",
       "      <td>2021-01-01 03:08:13.437</td>\n",
       "      <td>218369.359375</td>\n",
       "      <td>262.152771</td>\n",
       "      <td>18.742449</td>\n",
       "      <td>80.144565</td>\n",
       "      <td>0.088163</td>\n",
       "      <td>0.134082</td>\n",
       "      <td>0.007551</td>\n",
       "      <td>0.892653</td>\n",
       "      <td>0.0</td>\n",
       "      <td>0.0</td>\n",
       "      <td>13.085938</td>\n",
       "    </tr>\n",
       "    <tr>\n",
       "      <th>3</th>\n",
       "      <td>510008</td>\n",
       "      <td>2021-01-01 03:08:14.437</td>\n",
       "      <td>218475.359375</td>\n",
       "      <td>261.805573</td>\n",
       "      <td>18.752177</td>\n",
       "      <td>80.150724</td>\n",
       "      <td>0.088367</td>\n",
       "      <td>0.119184</td>\n",
       "      <td>0.006712</td>\n",
       "      <td>0.892358</td>\n",
       "      <td>0.0</td>\n",
       "      <td>0.0</td>\n",
       "      <td>13.093172</td>\n",
       "    </tr>\n",
       "    <tr>\n",
       "      <th>4</th>\n",
       "      <td>510008</td>\n",
       "      <td>2021-01-01 03:08:15.437</td>\n",
       "      <td>218369.359375</td>\n",
       "      <td>260.763885</td>\n",
       "      <td>18.761905</td>\n",
       "      <td>80.156883</td>\n",
       "      <td>0.088571</td>\n",
       "      <td>0.104286</td>\n",
       "      <td>0.005873</td>\n",
       "      <td>0.892063</td>\n",
       "      <td>0.0</td>\n",
       "      <td>0.0</td>\n",
       "      <td>13.093172</td>\n",
       "    </tr>\n",
       "  </tbody>\n",
       "</table>\n",
       "</div>"
      ],
      "text/plain": [
       "     NPLV                    Time              V           T         O2  \\\n",
       "0  510008 2021-01-01 03:08:11.437  218263.343750  262.847229  18.722993   \n",
       "1  510008 2021-01-01 03:08:12.437  218263.343750  262.847229  18.732721   \n",
       "2  510008 2021-01-01 03:08:13.437  218369.359375  262.152771  18.742449   \n",
       "3  510008 2021-01-01 03:08:14.437  218475.359375  261.805573  18.752177   \n",
       "4  510008 2021-01-01 03:08:15.437  218369.359375  260.763885  18.761905   \n",
       "\n",
       "          N2        H2       CO2        CO        AR  T фурмы 1  T фурмы 2  \\\n",
       "0  80.132247  0.087755  0.163878  0.009229  0.893243        0.0        0.0   \n",
       "1  80.138406  0.087959  0.148980  0.008390  0.892948        0.0        0.0   \n",
       "2  80.144565  0.088163  0.134082  0.007551  0.892653        0.0        0.0   \n",
       "3  80.150724  0.088367  0.119184  0.006712  0.892358        0.0        0.0   \n",
       "4  80.156883  0.088571  0.104286  0.005873  0.892063        0.0        0.0   \n",
       "\n",
       "   O2_pressure  \n",
       "0    13.085938  \n",
       "1    13.085938  \n",
       "2    13.085938  \n",
       "3    13.093172  \n",
       "4    13.093172  "
      ]
     },
     "execution_count": 44,
     "metadata": {},
     "output_type": "execute_result"
    }
   ],
   "source": [
    "gas_train.head()"
   ]
  },
  {
   "cell_type": "code",
   "execution_count": 45,
   "metadata": {},
   "outputs": [
    {
     "data": {
      "text/plain": [
       "(6468018, 13)"
      ]
     },
     "execution_count": 45,
     "metadata": {},
     "output_type": "execute_result"
    }
   ],
   "source": [
    "gas_train.shape"
   ]
  },
  {
   "cell_type": "code",
   "execution_count": 46,
   "metadata": {},
   "outputs": [
    {
     "data": {
      "text/plain": [
       "NPLV\n",
       "510829    1847\n",
       "511928    1988\n",
       "512158    2039\n",
       "512073    2051\n",
       "512149    2064\n",
       "          ... \n",
       "511938    7177\n",
       "512065    7198\n",
       "511953    7259\n",
       "512112    7597\n",
       "510949    8164\n",
       "Name: NPLV, Length: 2063, dtype: int64"
      ]
     },
     "execution_count": 46,
     "metadata": {},
     "output_type": "execute_result"
    }
   ],
   "source": [
    "gas_train.groupby('NPLV')['NPLV'].count().sort_values()"
   ]
  },
  {
   "cell_type": "code",
   "execution_count": 47,
   "metadata": {},
   "outputs": [
    {
     "data": {
      "text/html": [
       "<div>\n",
       "<style scoped>\n",
       "    .dataframe tbody tr th:only-of-type {\n",
       "        vertical-align: middle;\n",
       "    }\n",
       "\n",
       "    .dataframe tbody tr th {\n",
       "        vertical-align: top;\n",
       "    }\n",
       "\n",
       "    .dataframe thead th {\n",
       "        text-align: right;\n",
       "    }\n",
       "</style>\n",
       "<table border=\"1\" class=\"dataframe\">\n",
       "  <thead>\n",
       "    <tr style=\"text-align: right;\">\n",
       "      <th></th>\n",
       "      <th>NPLV</th>\n",
       "      <th>TST</th>\n",
       "      <th>C</th>\n",
       "    </tr>\n",
       "  </thead>\n",
       "  <tbody>\n",
       "    <tr>\n",
       "      <th>0</th>\n",
       "      <td>510008</td>\n",
       "      <td>1690</td>\n",
       "      <td>0.060</td>\n",
       "    </tr>\n",
       "    <tr>\n",
       "      <th>1</th>\n",
       "      <td>510009</td>\n",
       "      <td>1683</td>\n",
       "      <td>0.097</td>\n",
       "    </tr>\n",
       "    <tr>\n",
       "      <th>2</th>\n",
       "      <td>510010</td>\n",
       "      <td>1662</td>\n",
       "      <td>0.091</td>\n",
       "    </tr>\n",
       "    <tr>\n",
       "      <th>3</th>\n",
       "      <td>510011</td>\n",
       "      <td>1609</td>\n",
       "      <td>0.410</td>\n",
       "    </tr>\n",
       "    <tr>\n",
       "      <th>4</th>\n",
       "      <td>510012</td>\n",
       "      <td>1682</td>\n",
       "      <td>0.120</td>\n",
       "    </tr>\n",
       "  </tbody>\n",
       "</table>\n",
       "</div>"
      ],
      "text/plain": [
       "     NPLV   TST      C\n",
       "0  510008  1690  0.060\n",
       "1  510009  1683  0.097\n",
       "2  510010  1662  0.091\n",
       "3  510011  1609  0.410\n",
       "4  510012  1682  0.120"
      ]
     },
     "execution_count": 47,
     "metadata": {},
     "output_type": "execute_result"
    }
   ],
   "source": [
    "target_train.head()"
   ]
  },
  {
   "cell_type": "code",
   "execution_count": 48,
   "metadata": {},
   "outputs": [
    {
     "data": {
      "text/plain": [
       "NPLV    0\n",
       "TST     0\n",
       "C       2\n",
       "dtype: int64"
      ]
     },
     "execution_count": 48,
     "metadata": {},
     "output_type": "execute_result"
    }
   ],
   "source": [
    "target_train.isna().sum()"
   ]
  },
  {
   "cell_type": "code",
   "execution_count": 49,
   "metadata": {},
   "outputs": [
    {
     "data": {
      "text/plain": [
       "1024    511156\n",
       "2041    512299\n",
       "Name: NPLV, dtype: int64"
      ]
     },
     "execution_count": 49,
     "metadata": {},
     "output_type": "execute_result"
    }
   ],
   "source": [
    "na = target_train[target_train['C'].isna()]['NPLV']\n",
    "na"
   ]
  },
  {
   "cell_type": "markdown",
   "metadata": {},
   "source": [
    "Две плавки в таргете не имеют меток, тоже избавимся от них в трейне."
   ]
  },
  {
   "cell_type": "code",
   "execution_count": 50,
   "metadata": {},
   "outputs": [],
   "source": [
    "target_train = target_train[target_train['NPLV']!=511135]"
   ]
  },
  {
   "cell_type": "code",
   "execution_count": 51,
   "metadata": {},
   "outputs": [],
   "source": [
    "target_train = target_train.dropna().reset_index(drop=True)"
   ]
  },
  {
   "cell_type": "code",
   "execution_count": 52,
   "metadata": {},
   "outputs": [
    {
     "data": {
      "text/html": [
       "<div>\n",
       "<style scoped>\n",
       "    .dataframe tbody tr th:only-of-type {\n",
       "        vertical-align: middle;\n",
       "    }\n",
       "\n",
       "    .dataframe tbody tr th {\n",
       "        vertical-align: top;\n",
       "    }\n",
       "\n",
       "    .dataframe thead th {\n",
       "        text-align: right;\n",
       "    }\n",
       "</style>\n",
       "<table border=\"1\" class=\"dataframe\">\n",
       "  <thead>\n",
       "    <tr style=\"text-align: right;\">\n",
       "      <th></th>\n",
       "      <th>NPLV</th>\n",
       "      <th>TST</th>\n",
       "      <th>C</th>\n",
       "    </tr>\n",
       "  </thead>\n",
       "  <tbody>\n",
       "    <tr>\n",
       "      <th>0</th>\n",
       "      <td>510008</td>\n",
       "      <td>1690</td>\n",
       "      <td>0.060</td>\n",
       "    </tr>\n",
       "    <tr>\n",
       "      <th>1</th>\n",
       "      <td>510009</td>\n",
       "      <td>1683</td>\n",
       "      <td>0.097</td>\n",
       "    </tr>\n",
       "    <tr>\n",
       "      <th>2</th>\n",
       "      <td>510010</td>\n",
       "      <td>1662</td>\n",
       "      <td>0.091</td>\n",
       "    </tr>\n",
       "    <tr>\n",
       "      <th>3</th>\n",
       "      <td>510011</td>\n",
       "      <td>1609</td>\n",
       "      <td>0.410</td>\n",
       "    </tr>\n",
       "    <tr>\n",
       "      <th>4</th>\n",
       "      <td>510012</td>\n",
       "      <td>1682</td>\n",
       "      <td>0.120</td>\n",
       "    </tr>\n",
       "    <tr>\n",
       "      <th>...</th>\n",
       "      <td>...</td>\n",
       "      <td>...</td>\n",
       "      <td>...</td>\n",
       "    </tr>\n",
       "    <tr>\n",
       "      <th>2055</th>\n",
       "      <td>512318</td>\n",
       "      <td>1626</td>\n",
       "      <td>0.145</td>\n",
       "    </tr>\n",
       "    <tr>\n",
       "      <th>2056</th>\n",
       "      <td>512319</td>\n",
       "      <td>1643</td>\n",
       "      <td>0.087</td>\n",
       "    </tr>\n",
       "    <tr>\n",
       "      <th>2057</th>\n",
       "      <td>512320</td>\n",
       "      <td>1615</td>\n",
       "      <td>0.141</td>\n",
       "    </tr>\n",
       "    <tr>\n",
       "      <th>2058</th>\n",
       "      <td>512321</td>\n",
       "      <td>1654</td>\n",
       "      <td>0.270</td>\n",
       "    </tr>\n",
       "    <tr>\n",
       "      <th>2059</th>\n",
       "      <td>512322</td>\n",
       "      <td>1630</td>\n",
       "      <td>0.183</td>\n",
       "    </tr>\n",
       "  </tbody>\n",
       "</table>\n",
       "<p>2060 rows × 3 columns</p>\n",
       "</div>"
      ],
      "text/plain": [
       "        NPLV   TST      C\n",
       "0     510008  1690  0.060\n",
       "1     510009  1683  0.097\n",
       "2     510010  1662  0.091\n",
       "3     510011  1609  0.410\n",
       "4     510012  1682  0.120\n",
       "...      ...   ...    ...\n",
       "2055  512318  1626  0.145\n",
       "2056  512319  1643  0.087\n",
       "2057  512320  1615  0.141\n",
       "2058  512321  1654  0.270\n",
       "2059  512322  1630  0.183\n",
       "\n",
       "[2060 rows x 3 columns]"
      ]
     },
     "execution_count": 52,
     "metadata": {},
     "output_type": "execute_result"
    }
   ],
   "source": [
    "target_train"
   ]
  },
  {
   "cell_type": "code",
   "execution_count": 53,
   "metadata": {},
   "outputs": [],
   "source": [
    "plavki_train = plavki_train[(plavki_train['NPLV']!=511156)&(plavki_train['NPLV']!=512299)]"
   ]
  },
  {
   "cell_type": "markdown",
   "metadata": {},
   "source": [
    "### Смотрим тестовые данные"
   ]
  },
  {
   "cell_type": "code",
   "execution_count": 54,
   "metadata": {},
   "outputs": [
    {
     "data": {
      "text/html": [
       "<div>\n",
       "<style scoped>\n",
       "    .dataframe tbody tr th:only-of-type {\n",
       "        vertical-align: middle;\n",
       "    }\n",
       "\n",
       "    .dataframe tbody tr th {\n",
       "        vertical-align: top;\n",
       "    }\n",
       "\n",
       "    .dataframe thead th {\n",
       "        text-align: right;\n",
       "    }\n",
       "</style>\n",
       "<table border=\"1\" class=\"dataframe\">\n",
       "  <thead>\n",
       "    <tr style=\"text-align: right;\">\n",
       "      <th></th>\n",
       "      <th>NPLV</th>\n",
       "      <th>SEC</th>\n",
       "      <th>RAS</th>\n",
       "      <th>POL</th>\n",
       "    </tr>\n",
       "  </thead>\n",
       "  <tbody>\n",
       "    <tr>\n",
       "      <th>0</th>\n",
       "      <td>512324</td>\n",
       "      <td>2021-05-05 17:43:18</td>\n",
       "      <td>181.0</td>\n",
       "      <td>4.2</td>\n",
       "    </tr>\n",
       "    <tr>\n",
       "      <th>1</th>\n",
       "      <td>512324</td>\n",
       "      <td>2021-05-05 17:43:20</td>\n",
       "      <td>215.0</td>\n",
       "      <td>4.2</td>\n",
       "    </tr>\n",
       "    <tr>\n",
       "      <th>2</th>\n",
       "      <td>512324</td>\n",
       "      <td>2021-05-05 17:43:22</td>\n",
       "      <td>243.0</td>\n",
       "      <td>4.2</td>\n",
       "    </tr>\n",
       "    <tr>\n",
       "      <th>3</th>\n",
       "      <td>512324</td>\n",
       "      <td>2021-05-05 17:43:24</td>\n",
       "      <td>265.0</td>\n",
       "      <td>4.2</td>\n",
       "    </tr>\n",
       "    <tr>\n",
       "      <th>4</th>\n",
       "      <td>512324</td>\n",
       "      <td>2021-05-05 17:43:26</td>\n",
       "      <td>273.0</td>\n",
       "      <td>4.2</td>\n",
       "    </tr>\n",
       "  </tbody>\n",
       "</table>\n",
       "</div>"
      ],
      "text/plain": [
       "     NPLV                 SEC    RAS  POL\n",
       "0  512324 2021-05-05 17:43:18  181.0  4.2\n",
       "1  512324 2021-05-05 17:43:20  215.0  4.2\n",
       "2  512324 2021-05-05 17:43:22  243.0  4.2\n",
       "3  512324 2021-05-05 17:43:24  265.0  4.2\n",
       "4  512324 2021-05-05 17:43:26  273.0  4.2"
      ]
     },
     "execution_count": 54,
     "metadata": {},
     "output_type": "execute_result"
    }
   ],
   "source": [
    "produv_test.head()"
   ]
  },
  {
   "cell_type": "code",
   "execution_count": 55,
   "metadata": {},
   "outputs": [
    {
     "data": {
      "text/plain": [
       "NPLV\n",
       "513374   0 days 00:29:48\n",
       "512533   0 days 00:35:34\n",
       "512951   0 days 00:36:52\n",
       "512554   0 days 00:37:24\n",
       "513085   0 days 00:37:44\n",
       "               ...      \n",
       "512990   0 days 09:12:08\n",
       "512434   0 days 09:36:26\n",
       "512762   0 days 09:38:54\n",
       "513241   0 days 10:31:46\n",
       "512614   0 days 11:08:08\n",
       "Length: 780, dtype: timedelta64[ns]"
      ]
     },
     "execution_count": 55,
     "metadata": {},
     "output_type": "execute_result"
    }
   ],
   "source": [
    "t1 = produv_test.groupby('NPLV')['SEC'].agg(['min', 'max'])\n",
    "(t1['max']-t1['min']).sort_values()"
   ]
  },
  {
   "cell_type": "code",
   "execution_count": 56,
   "metadata": {},
   "outputs": [
    {
     "data": {
      "text/html": [
       "<div>\n",
       "<style scoped>\n",
       "    .dataframe tbody tr th:only-of-type {\n",
       "        vertical-align: middle;\n",
       "    }\n",
       "\n",
       "    .dataframe tbody tr th {\n",
       "        vertical-align: top;\n",
       "    }\n",
       "\n",
       "    .dataframe thead th {\n",
       "        text-align: right;\n",
       "    }\n",
       "</style>\n",
       "<table border=\"1\" class=\"dataframe\">\n",
       "  <thead>\n",
       "    <tr style=\"text-align: right;\">\n",
       "      <th></th>\n",
       "      <th>NPLV</th>\n",
       "      <th>plavka_VR_NACH</th>\n",
       "      <th>plavka_VR_KON</th>\n",
       "      <th>plavka_NMZ</th>\n",
       "      <th>plavka_NAPR_ZAD</th>\n",
       "      <th>plavka_STFUT</th>\n",
       "      <th>plavka_TIPE_FUR</th>\n",
       "      <th>plavka_ST_FURM</th>\n",
       "      <th>plavka_TIPE_GOL</th>\n",
       "      <th>plavka_ST_GOL</th>\n",
       "    </tr>\n",
       "  </thead>\n",
       "  <tbody>\n",
       "    <tr>\n",
       "      <th>0</th>\n",
       "      <td>512324</td>\n",
       "      <td>2021-05-05 17:41:21</td>\n",
       "      <td>2021-05-05 18:46:07</td>\n",
       "      <td>Ст3пс/Э</td>\n",
       "      <td>Изл</td>\n",
       "      <td>2</td>\n",
       "      <td>цилиндрическая</td>\n",
       "      <td>2</td>\n",
       "      <td>4-сопл х54</td>\n",
       "      <td>2</td>\n",
       "    </tr>\n",
       "    <tr>\n",
       "      <th>1</th>\n",
       "      <td>512327</td>\n",
       "      <td>2021-05-05 21:07:01</td>\n",
       "      <td>2021-05-05 22:02:26</td>\n",
       "      <td>C121TM/ЭТ</td>\n",
       "      <td>МНЛС</td>\n",
       "      <td>5</td>\n",
       "      <td>цилиндрическая</td>\n",
       "      <td>5</td>\n",
       "      <td>4-сопл х54</td>\n",
       "      <td>5</td>\n",
       "    </tr>\n",
       "    <tr>\n",
       "      <th>2</th>\n",
       "      <td>512328</td>\n",
       "      <td>2021-05-05 22:03:12</td>\n",
       "      <td>2021-05-05 23:39:32</td>\n",
       "      <td>Ст3пс/Э</td>\n",
       "      <td>Изл</td>\n",
       "      <td>6</td>\n",
       "      <td>цилиндрическая</td>\n",
       "      <td>6</td>\n",
       "      <td>4-сопл х54</td>\n",
       "      <td>6</td>\n",
       "    </tr>\n",
       "    <tr>\n",
       "      <th>3</th>\n",
       "      <td>512331</td>\n",
       "      <td>2021-05-06 02:21:46</td>\n",
       "      <td>2021-05-06 03:49:18</td>\n",
       "      <td>25Г2С</td>\n",
       "      <td>Изл</td>\n",
       "      <td>9</td>\n",
       "      <td>цилиндрическая</td>\n",
       "      <td>9</td>\n",
       "      <td>4-сопл х54</td>\n",
       "      <td>9</td>\n",
       "    </tr>\n",
       "    <tr>\n",
       "      <th>4</th>\n",
       "      <td>512333</td>\n",
       "      <td>2021-05-06 05:22:03</td>\n",
       "      <td>2021-05-06 06:25:51</td>\n",
       "      <td>C091TM.z01/ЭТ</td>\n",
       "      <td>МНЛС</td>\n",
       "      <td>11</td>\n",
       "      <td>цилиндрическая</td>\n",
       "      <td>11</td>\n",
       "      <td>4-сопл х54</td>\n",
       "      <td>11</td>\n",
       "    </tr>\n",
       "  </tbody>\n",
       "</table>\n",
       "</div>"
      ],
      "text/plain": [
       "     NPLV      plavka_VR_NACH       plavka_VR_KON       plavka_NMZ  \\\n",
       "0  512324 2021-05-05 17:41:21 2021-05-05 18:46:07  Ст3пс/Э           \n",
       "1  512327 2021-05-05 21:07:01 2021-05-05 22:02:26  C121TM/ЭТ         \n",
       "2  512328 2021-05-05 22:03:12 2021-05-05 23:39:32  Ст3пс/Э           \n",
       "3  512331 2021-05-06 02:21:46 2021-05-06 03:49:18  25Г2С             \n",
       "4  512333 2021-05-06 05:22:03 2021-05-06 06:25:51  C091TM.z01/ЭТ     \n",
       "\n",
       "  plavka_NAPR_ZAD  plavka_STFUT plavka_TIPE_FUR  plavka_ST_FURM  \\\n",
       "0             Изл             2  цилиндрическая               2   \n",
       "1            МНЛС             5  цилиндрическая               5   \n",
       "2             Изл             6  цилиндрическая               6   \n",
       "3             Изл             9  цилиндрическая               9   \n",
       "4            МНЛС            11  цилиндрическая              11   \n",
       "\n",
       "        plavka_TIPE_GOL  plavka_ST_GOL  \n",
       "0  4-сопл х54                        2  \n",
       "1  4-сопл х54                        5  \n",
       "2  4-сопл х54                        6  \n",
       "3  4-сопл х54                        9  \n",
       "4  4-сопл х54                       11  "
      ]
     },
     "execution_count": 56,
     "metadata": {},
     "output_type": "execute_result"
    }
   ],
   "source": [
    "plavki_test.head()"
   ]
  },
  {
   "cell_type": "code",
   "execution_count": 57,
   "metadata": {},
   "outputs": [
    {
     "data": {
      "text/html": [
       "<div>\n",
       "<style scoped>\n",
       "    .dataframe tbody tr th:only-of-type {\n",
       "        vertical-align: middle;\n",
       "    }\n",
       "\n",
       "    .dataframe tbody tr th {\n",
       "        vertical-align: top;\n",
       "    }\n",
       "\n",
       "    .dataframe thead th {\n",
       "        text-align: right;\n",
       "    }\n",
       "</style>\n",
       "<table border=\"1\" class=\"dataframe\">\n",
       "  <thead>\n",
       "    <tr style=\"text-align: right;\">\n",
       "      <th></th>\n",
       "      <th>NPLV</th>\n",
       "      <th>TYPE_OPER</th>\n",
       "      <th>NOP</th>\n",
       "      <th>VR_NACH</th>\n",
       "      <th>VR_KON</th>\n",
       "      <th>O2</th>\n",
       "    </tr>\n",
       "  </thead>\n",
       "  <tbody>\n",
       "    <tr>\n",
       "      <th>0</th>\n",
       "      <td>512324</td>\n",
       "      <td>межпл.прост.</td>\n",
       "      <td>межпл. простой</td>\n",
       "      <td>2011-05-07 21:28:59</td>\n",
       "      <td>2011-05-07 21:33:38</td>\n",
       "      <td>NaN</td>\n",
       "    </tr>\n",
       "    <tr>\n",
       "      <th>1</th>\n",
       "      <td>512324</td>\n",
       "      <td>межпл.прост.</td>\n",
       "      <td>межпл. простой</td>\n",
       "      <td>2021-05-05 17:35:55</td>\n",
       "      <td>2021-05-05 17:41:21</td>\n",
       "      <td>NaN</td>\n",
       "    </tr>\n",
       "    <tr>\n",
       "      <th>2</th>\n",
       "      <td>512324</td>\n",
       "      <td>межпл.прост.</td>\n",
       "      <td>Осмотр конвертера</td>\n",
       "      <td>2021-05-05 17:36:07</td>\n",
       "      <td>2021-05-05 17:39:07</td>\n",
       "      <td>NaN</td>\n",
       "    </tr>\n",
       "    <tr>\n",
       "      <th>3</th>\n",
       "      <td>512324</td>\n",
       "      <td>межпл.прост.</td>\n",
       "      <td>Слив шлака</td>\n",
       "      <td>2021-05-05 17:39:07</td>\n",
       "      <td>2021-05-05 17:41:20</td>\n",
       "      <td>NaN</td>\n",
       "    </tr>\n",
       "    <tr>\n",
       "      <th>4</th>\n",
       "      <td>512324</td>\n",
       "      <td>опер</td>\n",
       "      <td>Завалка лома</td>\n",
       "      <td>2021-05-05 17:41:21</td>\n",
       "      <td>2021-05-05 17:43:16</td>\n",
       "      <td>NaN</td>\n",
       "    </tr>\n",
       "  </tbody>\n",
       "</table>\n",
       "</div>"
      ],
      "text/plain": [
       "     NPLV     TYPE_OPER                NOP             VR_NACH  \\\n",
       "0  512324  межпл.прост.     межпл. простой 2011-05-07 21:28:59   \n",
       "1  512324  межпл.прост.     межпл. простой 2021-05-05 17:35:55   \n",
       "2  512324  межпл.прост.  Осмотр конвертера 2021-05-05 17:36:07   \n",
       "3  512324  межпл.прост.         Слив шлака 2021-05-05 17:39:07   \n",
       "4  512324          опер       Завалка лома 2021-05-05 17:41:21   \n",
       "\n",
       "               VR_KON  O2  \n",
       "0 2011-05-07 21:33:38 NaN  \n",
       "1 2021-05-05 17:41:21 NaN  \n",
       "2 2021-05-05 17:39:07 NaN  \n",
       "3 2021-05-05 17:41:20 NaN  \n",
       "4 2021-05-05 17:43:16 NaN  "
      ]
     },
     "execution_count": 57,
     "metadata": {},
     "output_type": "execute_result"
    }
   ],
   "source": [
    "chronom_test.head()"
   ]
  },
  {
   "cell_type": "code",
   "execution_count": 58,
   "metadata": {},
   "outputs": [
    {
     "data": {
      "text/html": [
       "<div>\n",
       "<style scoped>\n",
       "    .dataframe tbody tr th:only-of-type {\n",
       "        vertical-align: middle;\n",
       "    }\n",
       "\n",
       "    .dataframe tbody tr th {\n",
       "        vertical-align: top;\n",
       "    }\n",
       "\n",
       "    .dataframe thead th {\n",
       "        text-align: right;\n",
       "    }\n",
       "</style>\n",
       "<table border=\"1\" class=\"dataframe\">\n",
       "  <thead>\n",
       "    <tr style=\"text-align: right;\">\n",
       "      <th></th>\n",
       "      <th>NPLV</th>\n",
       "      <th>VES</th>\n",
       "      <th>T</th>\n",
       "      <th>SI</th>\n",
       "      <th>MN</th>\n",
       "      <th>S</th>\n",
       "      <th>P</th>\n",
       "      <th>CR</th>\n",
       "      <th>NI</th>\n",
       "      <th>CU</th>\n",
       "      <th>V</th>\n",
       "      <th>TI</th>\n",
       "      <th>DATA_ZAMERA</th>\n",
       "    </tr>\n",
       "  </thead>\n",
       "  <tbody>\n",
       "    <tr>\n",
       "      <th>0</th>\n",
       "      <td>512324</td>\n",
       "      <td>240100.0</td>\n",
       "      <td>1355.0</td>\n",
       "      <td>0.46</td>\n",
       "      <td>0.33</td>\n",
       "      <td>0.027</td>\n",
       "      <td>0.079</td>\n",
       "      <td>0.01</td>\n",
       "      <td>0.01</td>\n",
       "      <td>0.02</td>\n",
       "      <td>0.048</td>\n",
       "      <td>0.030</td>\n",
       "      <td>2021-05-05 17:22:54</td>\n",
       "    </tr>\n",
       "    <tr>\n",
       "      <th>1</th>\n",
       "      <td>512327</td>\n",
       "      <td>266400.0</td>\n",
       "      <td>1390.0</td>\n",
       "      <td>0.30</td>\n",
       "      <td>0.33</td>\n",
       "      <td>0.032</td>\n",
       "      <td>0.099</td>\n",
       "      <td>0.01</td>\n",
       "      <td>0.00</td>\n",
       "      <td>0.00</td>\n",
       "      <td>0.050</td>\n",
       "      <td>0.024</td>\n",
       "      <td>2021-05-05 20:00:30</td>\n",
       "    </tr>\n",
       "    <tr>\n",
       "      <th>2</th>\n",
       "      <td>512328</td>\n",
       "      <td>270200.0</td>\n",
       "      <td>1373.0</td>\n",
       "      <td>0.00</td>\n",
       "      <td>0.00</td>\n",
       "      <td>0.000</td>\n",
       "      <td>0.000</td>\n",
       "      <td>0.00</td>\n",
       "      <td>0.00</td>\n",
       "      <td>0.00</td>\n",
       "      <td>0.000</td>\n",
       "      <td>0.000</td>\n",
       "      <td>2021-05-05 22:29:21</td>\n",
       "    </tr>\n",
       "    <tr>\n",
       "      <th>3</th>\n",
       "      <td>512331</td>\n",
       "      <td>266700.0</td>\n",
       "      <td>1383.0</td>\n",
       "      <td>0.54</td>\n",
       "      <td>0.39</td>\n",
       "      <td>0.028</td>\n",
       "      <td>0.115</td>\n",
       "      <td>0.02</td>\n",
       "      <td>0.01</td>\n",
       "      <td>0.03</td>\n",
       "      <td>0.059</td>\n",
       "      <td>0.042</td>\n",
       "      <td>2021-05-06 01:58:11</td>\n",
       "    </tr>\n",
       "    <tr>\n",
       "      <th>4</th>\n",
       "      <td>512333</td>\n",
       "      <td>267400.0</td>\n",
       "      <td>1387.0</td>\n",
       "      <td>0.00</td>\n",
       "      <td>0.00</td>\n",
       "      <td>0.000</td>\n",
       "      <td>0.000</td>\n",
       "      <td>0.00</td>\n",
       "      <td>0.00</td>\n",
       "      <td>0.00</td>\n",
       "      <td>0.000</td>\n",
       "      <td>0.000</td>\n",
       "      <td>2021-05-06 05:27:08</td>\n",
       "    </tr>\n",
       "  </tbody>\n",
       "</table>\n",
       "</div>"
      ],
      "text/plain": [
       "     NPLV       VES       T    SI    MN      S      P    CR    NI    CU  \\\n",
       "0  512324  240100.0  1355.0  0.46  0.33  0.027  0.079  0.01  0.01  0.02   \n",
       "1  512327  266400.0  1390.0  0.30  0.33  0.032  0.099  0.01  0.00  0.00   \n",
       "2  512328  270200.0  1373.0  0.00  0.00  0.000  0.000  0.00  0.00  0.00   \n",
       "3  512331  266700.0  1383.0  0.54  0.39  0.028  0.115  0.02  0.01  0.03   \n",
       "4  512333  267400.0  1387.0  0.00  0.00  0.000  0.000  0.00  0.00  0.00   \n",
       "\n",
       "       V     TI         DATA_ZAMERA  \n",
       "0  0.048  0.030 2021-05-05 17:22:54  \n",
       "1  0.050  0.024 2021-05-05 20:00:30  \n",
       "2  0.000  0.000 2021-05-05 22:29:21  \n",
       "3  0.059  0.042 2021-05-06 01:58:11  \n",
       "4  0.000  0.000 2021-05-06 05:27:08  "
      ]
     },
     "execution_count": 58,
     "metadata": {},
     "output_type": "execute_result"
    }
   ],
   "source": [
    "chugun_test.head()"
   ]
  },
  {
   "cell_type": "markdown",
   "metadata": {},
   "source": [
    "### Конкатенация"
   ]
  },
  {
   "cell_type": "code",
   "execution_count": 59,
   "metadata": {},
   "outputs": [],
   "source": [
    "plav_ = pd.concat([plavki_train, plavki_test]).reset_index(drop=True)\n",
    "\n",
    "chugun_ = pd.concat([chugun_train, chugun_test]).reset_index(drop=True)\n",
    "\n",
    "lom_ = pd.concat([lom_train, lom_test]).reset_index(drop=True)\n",
    "\n",
    "sip_ = pd.concat([sip_train, sip_test]).reset_index(drop=True)\n",
    "\n",
    "gas_ = pd.concat([gas_train, gas_test]).reset_index(drop=True)\n",
    "\n",
    "produv_ = pd.concat([produv_train, produv_test]).reset_index(drop=True)\n",
    "\n",
    "chronom_ = pd.concat([chronom_train, chronom_test]).reset_index(drop=True)"
   ]
  },
  {
   "cell_type": "markdown",
   "metadata": {},
   "source": [
    "### Обработка"
   ]
  },
  {
   "cell_type": "code",
   "execution_count": 60,
   "metadata": {},
   "outputs": [],
   "source": [
    "encoder = OrdinalEncoder()"
   ]
  },
  {
   "cell_type": "markdown",
   "metadata": {},
   "source": [
    "Подготовим признаки для объединения в один датафрейм"
   ]
  },
  {
   "cell_type": "code",
   "execution_count": 61,
   "metadata": {},
   "outputs": [],
   "source": [
    "def plavki(x):\n",
    "    t1 = x.drop(['plavka_STFUT', 'plavka_ST_FURM', 'plavka_ST_GOL'], axis=1)\n",
    "    t1['plavka_timedelta'] = (t1['plavka_VR_KON']-t1['plavka_VR_NACH'])/np.timedelta64(1,'s')\n",
    "    t1['plavka_NMZ'] = t1['plavka_NMZ'].str.replace(' ', '')\n",
    "    t1['plavka_TIPE_GOL'] = t1['plavka_TIPE_GOL'].str.replace(' ', '')\n",
    "    t2 = pd.DataFrame(encoder.fit_transform(t1.select_dtypes(include=['object'])), columns=t1.select_dtypes(include=['object']).columns)\n",
    "    t1 = t1.drop(['plavka_VR_NACH','plavka_VR_KON', 'plavka_NMZ','plavka_NAPR_ZAD','plavka_TIPE_FUR', 'plavka_TIPE_GOL'], axis=1).join(t2)\n",
    "    return t1"
   ]
  },
  {
   "cell_type": "code",
   "execution_count": 62,
   "metadata": {},
   "outputs": [],
   "source": [
    "def chugun(x):\n",
    "    t1 = x.drop('DATA_ZAMERA', axis=1)\n",
    "    return t1"
   ]
  },
  {
   "cell_type": "code",
   "execution_count": 63,
   "metadata": {},
   "outputs": [],
   "source": [
    "def lom(x):\n",
    "    t1 = x.pivot(index='NPLV', columns='NML', values='VES').fillna(0)\n",
    "    return t1"
   ]
  },
  {
   "cell_type": "code",
   "execution_count": 64,
   "metadata": {},
   "outputs": [],
   "source": [
    "def sip(x):\n",
    "    t1 = x.pivot_table(index='NPLV', columns='NMSYP', values='VSSYP', aggfunc='sum').fillna(0)\n",
    "    t1['долом_сыр']=t1['долом_сыр']+t1['Долом(сыр)']\n",
    "    t1['изв_отсев']=t1['изв_отсев']+t1['изв отсев']\n",
    "    t1 = t1.drop(['Долом(сыр)', 'изв отсев'], axis=1)\n",
    "    t2 = x.groupby(['NPLV'])['DAT_OTD'].agg(['min', 'max'])\n",
    "    t2['sip_seconds'] = (t2['max']-t2['min'])/np.timedelta64(1,'s')\n",
    "    pivot = t1.merge(t2, on='NPLV')\n",
    "    pivot = pivot.drop(['min', 'max'], axis=1)\n",
    "    pivot.columns = ['Уголь_ТО', 'ФЛЮМАГ', 'Флюс_ФОМИ', 'агл_офл_с', 'долом_сыр', 'изв_ЦОИ', 'изв_отсев', 'кокс_25_40', 'sip_seconds']\n",
    "    return pivot"
   ]
  },
  {
   "cell_type": "code",
   "execution_count": 65,
   "metadata": {},
   "outputs": [],
   "source": [
    "def gas(x):\n",
    "    min_gas = x.groupby('NPLV')['Time'].min()\n",
    "    max_gas = x.groupby('NPLV')['Time'].max()\n",
    "    gas_start = x.query('Time in @min_gas')\n",
    "    gas_end = x.query('Time in @max_gas')\n",
    "    merged = gas_start.merge(gas_end, on='NPLV', suffixes=('_start', '_end'))\n",
    "    merged = merged.drop(['Time_start', 'Time_end', 'T фурмы 1_end', 'T фурмы 2_end'], axis=1)\n",
    "    return merged"
   ]
  },
  {
   "cell_type": "code",
   "execution_count": 66,
   "metadata": {},
   "outputs": [],
   "source": [
    "def produv(x):\n",
    "    t1 = x.groupby('NPLV').agg(['min', 'max', 'median', 'sum', 'count'])\n",
    "    t1.columns = ['RAS_min', 'RAS_max', 'RAS_median', 'RAS_sum', 'RAS_count', 'POL_min', 'POL_max', 'POL_median', 'POL_sum', 'count']\n",
    "    t2 = x.groupby('NPLV')['SEC'].agg(['min', 'max'])\n",
    "    t2.columns = ['SEC_min', 'SEC_max']\n",
    "    t2['SEC_delta'] = (t2['SEC_max']-t2['SEC_min'])/np.timedelta64(1,'s')\n",
    "    t2 = t2.drop(['SEC_min', 'SEC_max'], axis=1)\n",
    "    t1 = t1.drop(['RAS_count', 'POL_sum'], axis=1)\n",
    "    merged = t1.merge(t2, on='NPLV')\n",
    "    return merged"
   ]
  },
  {
   "cell_type": "code",
   "execution_count": 67,
   "metadata": {},
   "outputs": [],
   "source": [
    "def chronom(x):\n",
    "    t1 = x.pivot_table(index='NPLV', columns='NOP', values='O2', aggfunc='sum')\n",
    "    t1 = t1[['Нагрев лома', 'Додувка на t', 'Додувка на C']].fillna(0)\n",
    "    t1.columns = ['nagrev', 'doduvka_t', 'doduvka_c']\n",
    "    return t1"
   ]
  },
  {
   "cell_type": "markdown",
   "metadata": {},
   "source": [
    "Соберём все фичи"
   ]
  },
  {
   "cell_type": "code",
   "execution_count": 68,
   "metadata": {},
   "outputs": [],
   "source": [
    "def features(plavki, chugun, lom, sip, gas, produv, chronom):\n",
    "    feature = plavki.merge(chugun, on='NPLV')\\\n",
    "                             .merge(lom, on='NPLV')\\\n",
    "                             .merge(sip, on='NPLV')\\\n",
    "                             .merge(gas, on='NPLV')\\\n",
    "                             .merge(produv, on='NPLV')\\\n",
    "                             .merge(chronom, on='NPLV')\n",
    "    features_train = feature.query('NPLV in @target_train.NPLV')\n",
    "    features_test = feature.query('NPLV not in @target_train.NPLV').reset_index(drop=True)\n",
    "    return features_train, features_test"
   ]
  },
  {
   "cell_type": "code",
   "execution_count": 69,
   "metadata": {},
   "outputs": [],
   "source": [
    "plavki_all = plavki(plav_)\n",
    "chugun_all = chugun(chugun_)\n",
    "lom_all = lom(lom_)\n",
    "sip_all = sip(sip_)\n",
    "gas_all = gas(gas_)\n",
    "produv_all = produv(produv_)\n",
    "chronom_all = chronom(chronom_)"
   ]
  },
  {
   "cell_type": "markdown",
   "metadata": {},
   "source": [
    "Выделим трейн и тест"
   ]
  },
  {
   "cell_type": "code",
   "execution_count": 70,
   "metadata": {},
   "outputs": [],
   "source": [
    "features_train = features(plavki_all, chugun_all, lom_all, sip_all, gas_all, produv_all, chronom_all)[0]\n",
    "features_test = features(plavki_all, chugun_all, lom_all, sip_all, gas_all, produv_all, chronom_all)[1]"
   ]
  },
  {
   "cell_type": "markdown",
   "metadata": {},
   "source": [
    "Добавим признак мощности"
   ]
  },
  {
   "cell_type": "code",
   "execution_count": 71,
   "metadata": {},
   "outputs": [],
   "source": [
    "features_train['power'] = features_train['VES']*100000/features_train['plavka_timedelta']\n",
    "features_test['power'] = features_test['VES']*100000/features_test['plavka_timedelta']"
   ]
  },
  {
   "cell_type": "code",
   "execution_count": 72,
   "metadata": {},
   "outputs": [
    {
     "name": "stdout",
     "output_type": "stream",
     "text": [
      "<class 'pandas.core.frame.DataFrame'>\n",
      "RangeIndex: 780 entries, 0 to 779\n",
      "Data columns (total 69 columns):\n",
      " #   Column             Non-Null Count  Dtype  \n",
      "---  ------             --------------  -----  \n",
      " 0   NPLV               780 non-null    int64  \n",
      " 1   plavka_timedelta   780 non-null    float64\n",
      " 2   plavka_NMZ         780 non-null    float64\n",
      " 3   plavka_NAPR_ZAD    780 non-null    float64\n",
      " 4   plavka_TIPE_FUR    780 non-null    float64\n",
      " 5   plavka_TIPE_GOL    780 non-null    float64\n",
      " 6   VES                780 non-null    float64\n",
      " 7   T                  780 non-null    float64\n",
      " 8   SI                 780 non-null    float64\n",
      " 9   MN                 780 non-null    float64\n",
      " 10  S                  780 non-null    float64\n",
      " 11  P                  780 non-null    float64\n",
      " 12  CR                 780 non-null    float64\n",
      " 13  NI                 780 non-null    float64\n",
      " 14  CU                 780 non-null    float64\n",
      " 15  V                  780 non-null    float64\n",
      " 16  TI                 780 non-null    float64\n",
      " 17  25КШ               780 non-null    float64\n",
      " 18  К                  780 non-null    float64\n",
      " 19  КП                 780 non-null    float64\n",
      " 20  КШС8               780 non-null    float64\n",
      " 21  ЛЧ                 780 non-null    float64\n",
      " 22  НБ                 780 non-null    float64\n",
      " 23  О                  780 non-null    float64\n",
      " 24  ОК                 780 non-null    float64\n",
      " 25  СК                 780 non-null    float64\n",
      " 26  У2КШ               780 non-null    float64\n",
      " 27  Уголь_ТО           780 non-null    float64\n",
      " 28  ФЛЮМАГ             780 non-null    float64\n",
      " 29  Флюс_ФОМИ          780 non-null    float64\n",
      " 30  агл_офл_с          780 non-null    float64\n",
      " 31  долом_сыр          780 non-null    float64\n",
      " 32  изв_ЦОИ            780 non-null    float64\n",
      " 33  изв_отсев          780 non-null    float64\n",
      " 34  кокс_25_40         780 non-null    float64\n",
      " 35  sip_seconds        780 non-null    float64\n",
      " 36  V_start            780 non-null    float64\n",
      " 37  T_start            780 non-null    float64\n",
      " 38  O2_start           780 non-null    float64\n",
      " 39  N2_start           780 non-null    float64\n",
      " 40  H2_start           780 non-null    float64\n",
      " 41  CO2_start          780 non-null    float64\n",
      " 42  CO_start           780 non-null    float64\n",
      " 43  AR_start           780 non-null    float64\n",
      " 44  T фурмы 1_start    780 non-null    float64\n",
      " 45  T фурмы 2_start    780 non-null    float64\n",
      " 46  O2_pressure_start  780 non-null    float64\n",
      " 47  V_end              780 non-null    float64\n",
      " 48  T_end              780 non-null    float64\n",
      " 49  O2_end             780 non-null    float64\n",
      " 50  N2_end             780 non-null    float64\n",
      " 51  H2_end             780 non-null    float64\n",
      " 52  CO2_end            780 non-null    float64\n",
      " 53  CO_end             780 non-null    float64\n",
      " 54  AR_end             780 non-null    float64\n",
      " 55  O2_pressure_end    780 non-null    float64\n",
      " 56  RAS_min            780 non-null    float64\n",
      " 57  RAS_max            780 non-null    float64\n",
      " 58  RAS_median         780 non-null    float64\n",
      " 59  RAS_sum            780 non-null    float64\n",
      " 60  POL_min            780 non-null    float64\n",
      " 61  POL_max            780 non-null    float64\n",
      " 62  POL_median         780 non-null    float64\n",
      " 63  count              780 non-null    int64  \n",
      " 64  SEC_delta          780 non-null    float64\n",
      " 65  nagrev             780 non-null    float64\n",
      " 66  doduvka_t          780 non-null    float64\n",
      " 67  doduvka_c          780 non-null    float64\n",
      " 68  power              780 non-null    float64\n",
      "dtypes: float64(67), int64(2)\n",
      "memory usage: 420.6 KB\n"
     ]
    }
   ],
   "source": [
    "features_test.info()"
   ]
  },
  {
   "cell_type": "code",
   "execution_count": 73,
   "metadata": {},
   "outputs": [],
   "source": [
    "target_train_ = target_train[target_train.NPLV!=511135].reset_index(drop=True)\n",
    "target_train_ = target_train_.drop('NPLV', axis=1)"
   ]
  },
  {
   "cell_type": "code",
   "execution_count": 74,
   "metadata": {},
   "outputs": [
    {
     "data": {
      "image/png": "[encoded data removed]",
      "text/plain": [
       "<Figure size 1584x1080 with 2 Axes>"
      ]
     },
     "metadata": {
      "needs_background": "light"
     },
     "output_type": "display_data"
    }
   ],
   "source": [
    "f = plt.figure(figsize=(22, 15))\n",
    "plt.matshow(features_train.corr(), fignum=f.number)\n",
    "plt.xticks(range(features_train.shape[1]), features_train.columns, fontsize=14, rotation=90)\n",
    "plt.yticks(range(features_train.shape[1]), features_train.columns, fontsize=14)\n",
    "cb = plt.colorbar()\n",
    "cb.ax.tick_params(labelsize=14)\n",
    "plt.title('Матрица корреляции', fontsize=16);"
   ]
  },
  {
   "cell_type": "markdown",
   "metadata": {},
   "source": [
    "### Готовим модель с затюненными признаками"
   ]
  },
  {
   "cell_type": "code",
   "execution_count": 75,
   "metadata": {},
   "outputs": [],
   "source": [
    "model = CatBoostRegressor(random_state=42, learning_rate=0.0015, \n",
    "                          verbose=250, eval_metric='RMSE', \n",
    "                          loss_function='RMSE', iterations=2500,\n",
    "                          depth=10, l2_leaf_reg=7)"
   ]
  },
  {
   "cell_type": "code",
   "execution_count": 76,
   "metadata": {},
   "outputs": [
    {
     "name": "stdout",
     "output_type": "stream",
     "text": [
      "0:\tlearn: 30.6573379\ttotal: 343ms\tremaining: 14m 17s\n",
      "250:\tlearn: 27.4895499\ttotal: 52.1s\tremaining: 7m 47s\n",
      "500:\tlearn: 25.2754990\ttotal: 1m 39s\tremaining: 6m 37s\n",
      "750:\tlearn: 23.6448985\ttotal: 2m 25s\tremaining: 5m 39s\n",
      "1000:\tlearn: 22.3713519\ttotal: 3m 16s\tremaining: 4m 54s\n",
      "1250:\tlearn: 21.3717226\ttotal: 4m 5s\tremaining: 4m 5s\n",
      "1500:\tlearn: 20.5357065\ttotal: 5m\tremaining: 3m 19s\n",
      "1750:\tlearn: 19.8267619\ttotal: 5m 56s\tremaining: 2m 32s\n",
      "2000:\tlearn: 19.2032362\ttotal: 6m 46s\tremaining: 1m 41s\n",
      "2250:\tlearn: 18.6536555\ttotal: 7m 23s\tremaining: 49.1s\n",
      "2499:\tlearn: 18.1689585\ttotal: 7m 59s\tremaining: 0us\n"
     ]
    },
    {
     "data": {
      "text/plain": [
       "<catboost.core.CatBoostRegressor at 0x24da2251790>"
      ]
     },
     "execution_count": 76,
     "metadata": {},
     "output_type": "execute_result"
    }
   ],
   "source": [
    "model.fit(features_train, target_train_['TST'])"
   ]
  },
  {
   "cell_type": "code",
   "execution_count": 77,
   "metadata": {},
   "outputs": [
    {
     "data": {
      "image/png": "[encoded data removed]",
      "text/plain": [
       "<Figure size 576x432 with 1 Axes>"
      ]
     },
     "metadata": {
      "needs_background": "light"
     },
     "output_type": "display_data"
    }
   ],
   "source": [
    "pd.Series(model.feature_importances_, index=features_train.columns).nlargest(10)\\\n",
    "                                                                       .plot(kind='barh', grid=True, figsize=(8,6), \n",
    "                                                                             title='Важность признаков при обучении модели');"
   ]
  },
  {
   "cell_type": "code",
   "execution_count": 78,
   "metadata": {},
   "outputs": [
    {
     "data": {
      "image/png": "[encoded data removed]",
      "text/plain": [
       "<Figure size 576x432 with 1 Axes>"
      ]
     },
     "metadata": {
      "needs_background": "light"
     },
     "output_type": "display_data"
    }
   ],
   "source": [
    "pd.Series(model.feature_importances_, index=features_train.columns).nsmallest(10)\\\n",
    "                                                                       .plot(kind='barh', grid=True, figsize=(8,6), \n",
    "                                                                             title='Важность признаков при обучении модели');"
   ]
  },
  {
   "cell_type": "markdown",
   "metadata": {},
   "source": [
    "Предсказываем один признак - TST"
   ]
  },
  {
   "cell_type": "code",
   "execution_count": 79,
   "metadata": {},
   "outputs": [
    {
     "data": {
      "text/plain": [
       "array([1661.7785689 , 1651.14073956, 1651.76601161, 1649.74230235,\n",
       "       1653.29463521, 1652.56450305, 1649.38121396, 1648.46626788,\n",
       "       1647.28355246, 1652.81579848, 1663.21116591, 1648.77756585,\n",
       "       1654.4625359 , 1651.21721084, 1652.7023438 , 1653.82272749,\n",
       "       1653.12691957, 1649.38804773, 1650.33966354, 1652.36364252,\n",
       "       1664.82349183, 1647.26324457, 1646.57943852, 1651.25954686,\n",
       "       1646.71232408, 1652.20130519, 1665.80762722, 1666.26070824,\n",
       "       1664.44184717, 1653.57782949, 1665.18174574, 1650.9872539 ,\n",
       "       1645.65741102, 1644.01089243, 1644.45275289, 1650.31803034,\n",
       "       1661.93461205, 1652.20770118, 1662.9693043 , 1650.00940215,\n",
       "       1652.75477179, 1646.3619757 , 1651.1195436 , 1645.33158733,\n",
       "       1645.60061592, 1664.01568166, 1650.99543607, 1642.29683159,\n",
       "       1646.95738229, 1648.43686758, 1645.03499524, 1652.96850685,\n",
       "       1662.07193988, 1650.37836978, 1651.28133966, 1662.45264816,\n",
       "       1662.00772192, 1662.68492786, 1662.61228145, 1660.03733994,\n",
       "       1660.82426786, 1660.81464937, 1653.7023728 , 1648.67009009,\n",
       "       1653.06604136, 1650.68349853, 1662.41149763, 1647.64563162,\n",
       "       1660.33165994, 1651.74819917, 1663.33736412, 1646.4460139 ,\n",
       "       1646.80514893, 1648.43457598, 1651.19001935, 1646.02024304,\n",
       "       1645.67348737, 1647.3491349 , 1646.56430557, 1645.00721137,\n",
       "       1647.5496971 , 1646.67678282, 1646.44442323, 1649.16549   ,\n",
       "       1644.17591045, 1649.55132146, 1646.12215316, 1643.74086626,\n",
       "       1654.39014611, 1645.08450331, 1646.8058482 , 1648.45477944,\n",
       "       1646.71855994, 1651.40544354, 1646.22011014, 1665.18087369,\n",
       "       1644.8548758 , 1645.64583923, 1662.17655299, 1661.36575808,\n",
       "       1646.56513005, 1665.28075949, 1661.78812924, 1664.61779358,\n",
       "       1650.64587778, 1660.67856511, 1662.53924051, 1659.29128335,\n",
       "       1650.61697501, 1652.2313522 , 1650.76097179, 1645.04865098,\n",
       "       1651.08880087, 1660.04713876, 1648.92501476, 1662.40082185,\n",
       "       1664.89822813, 1648.9553161 , 1658.61274262, 1650.35123521,\n",
       "       1646.74354179, 1646.71968363, 1649.40709561, 1651.21621225,\n",
       "       1651.25556518, 1644.75520294, 1663.96911589, 1658.42694194,\n",
       "       1652.90561025, 1664.3426344 , 1658.82450784, 1647.1699972 ,\n",
       "       1660.10286916, 1658.62640182, 1646.14982897, 1648.22425872,\n",
       "       1645.28023855, 1647.5206662 , 1652.16475831, 1664.03790068,\n",
       "       1654.15268854, 1659.32592364, 1651.97460555, 1664.87747297,\n",
       "       1663.75881826, 1654.37909605, 1663.95773703, 1663.61358662,\n",
       "       1666.89572258, 1666.33529515, 1666.54194094, 1663.4962704 ,\n",
       "       1666.06055756, 1667.41929348, 1663.27937741, 1652.1103602 ,\n",
       "       1661.42289737, 1664.31829302, 1645.49436372, 1644.63688207,\n",
       "       1645.17145231, 1663.207849  , 1662.15898257, 1659.6140891 ,\n",
       "       1658.80998956, 1647.43813142, 1665.37069285, 1664.68983735,\n",
       "       1648.52776418, 1643.76031912, 1643.35733813, 1656.17743756,\n",
       "       1652.43743742, 1648.55067096, 1663.39153344, 1659.08102573,\n",
       "       1648.4536697 , 1649.16536024, 1647.05867526, 1649.45765676,\n",
       "       1647.56737507, 1646.39319217, 1657.09823571, 1647.44281049,\n",
       "       1644.88893672, 1650.6042484 , 1648.84487949, 1647.03255392,\n",
       "       1645.65137017, 1658.39974756, 1652.17767013, 1667.45187396,\n",
       "       1652.09212903, 1665.74939181, 1651.07043971, 1665.65198101,\n",
       "       1645.04072291, 1666.63438582, 1645.71074406, 1645.91394025,\n",
       "       1663.66213713, 1647.73652896, 1662.14885519, 1663.21845994,\n",
       "       1663.24365395, 1665.98830418, 1652.95654038, 1647.84850069,\n",
       "       1649.51245379, 1646.87331526, 1662.61890376, 1664.72579242,\n",
       "       1648.02914859, 1652.24881794, 1648.96124426, 1652.35027392,\n",
       "       1645.0889529 , 1647.22741149, 1656.11531094, 1657.33644468,\n",
       "       1666.8955809 , 1646.47200061, 1661.23763922, 1645.02367997,\n",
       "       1662.77184772, 1663.91301169, 1662.67204833, 1661.06759035,\n",
       "       1664.96257789, 1663.32796518, 1654.12727099, 1663.25594881,\n",
       "       1661.56958757, 1662.08182247, 1663.09662026, 1663.92607702,\n",
       "       1645.54928046, 1666.15836964, 1663.52673003, 1648.31786849,\n",
       "       1660.96955882, 1649.91667458, 1649.35472164, 1662.40928821,\n",
       "       1660.56441887, 1660.81097453, 1664.3363588 , 1652.3475842 ,\n",
       "       1653.0146217 , 1652.72879986, 1653.94766903, 1644.59194354,\n",
       "       1651.22406442, 1660.20292439, 1648.42916159, 1656.57308078,\n",
       "       1664.86219963, 1663.22820748, 1660.61966177, 1649.96265476,\n",
       "       1664.9234741 , 1657.76885727, 1658.78510584, 1667.04287465,\n",
       "       1651.95772069, 1648.69403879, 1665.50846282, 1666.96590383,\n",
       "       1664.69165856, 1660.45423966, 1663.10253826, 1647.53221715,\n",
       "       1662.08330609, 1663.38659215, 1654.61921779, 1647.02141021,\n",
       "       1664.64918115, 1650.76404543, 1647.06655889, 1661.75142869,\n",
       "       1662.23207103, 1656.871259  , 1658.73651624, 1650.81349377,\n",
       "       1662.11747505, 1664.75994462, 1664.7757221 , 1663.49419703,\n",
       "       1657.25571328, 1651.84382741, 1662.89080032, 1663.3762107 ,\n",
       "       1664.82642002, 1658.29508051, 1665.30271014, 1663.59012293,\n",
       "       1648.0482786 , 1662.36850421, 1663.20939379, 1648.80785229,\n",
       "       1648.64391567, 1650.4095811 , 1645.17620148, 1659.08396658,\n",
       "       1653.08775526, 1651.93062759, 1653.05019995, 1657.04497909,\n",
       "       1657.36051484, 1651.40242653, 1657.96277605, 1644.68596103,\n",
       "       1650.94698842, 1657.68488005, 1653.03135623, 1658.10918557,\n",
       "       1666.19880857, 1663.43851076, 1663.09594215, 1665.51340789,\n",
       "       1665.35357557, 1652.62525738, 1660.12184299, 1664.62395773,\n",
       "       1662.94944386, 1654.10667847, 1653.05089388, 1650.3564576 ,\n",
       "       1654.4392155 , 1649.50175113, 1660.79933266, 1647.6133772 ,\n",
       "       1661.52554009, 1660.02340912, 1660.83647438, 1658.48995378,\n",
       "       1663.06689844, 1647.57444005, 1647.95173962, 1657.16237015,\n",
       "       1647.16645173, 1645.7951008 , 1649.14340871, 1662.69609866,\n",
       "       1661.82183841, 1650.18117639, 1648.00116335, 1649.62369271,\n",
       "       1663.37752136, 1664.28693024, 1661.44650423, 1648.96667248,\n",
       "       1660.7770033 , 1663.15800607, 1664.18219187, 1652.34792859,\n",
       "       1660.67885551, 1648.86381748, 1652.13767755, 1652.18150694,\n",
       "       1660.35802277, 1661.18541391, 1649.153792  , 1661.26333106,\n",
       "       1651.69837703, 1660.25208899, 1647.4519201 , 1659.38437474,\n",
       "       1648.41459969, 1655.39135465, 1648.93003492, 1645.91014368,\n",
       "       1649.86480071, 1645.55962913, 1645.90135824, 1648.91678874,\n",
       "       1646.87572721, 1647.90913416, 1651.0385007 , 1648.30274077,\n",
       "       1645.5430087 , 1646.96400008, 1649.80992758, 1649.89241165,\n",
       "       1644.13969851, 1646.5817986 , 1647.12887247, 1646.67976208,\n",
       "       1658.20967483, 1657.84514118, 1645.01809607, 1659.80132873,\n",
       "       1652.8685913 , 1653.67767385, 1648.26809858, 1660.59700849,\n",
       "       1664.68110404, 1663.44338745, 1663.60693333, 1648.96184742,\n",
       "       1645.47559195, 1651.00542127, 1661.78019233, 1653.29053426,\n",
       "       1658.20576216, 1661.38882127, 1658.92821976, 1656.02570015,\n",
       "       1660.66802959, 1649.69110405, 1658.64214225, 1650.20910765,\n",
       "       1659.53921474, 1661.42033486, 1660.26026787, 1663.21682705,\n",
       "       1658.75486541, 1659.87896817, 1660.09282711, 1662.43789752,\n",
       "       1661.62046916, 1659.32044912, 1653.39851373, 1646.85968586,\n",
       "       1661.40695078, 1660.99441821, 1660.80613973, 1666.74696967,\n",
       "       1663.23371133, 1658.54114002, 1649.09188058, 1648.95078782,\n",
       "       1649.69754953, 1646.47227856, 1645.49243278, 1649.80927918,\n",
       "       1651.19109978, 1646.98466869, 1657.3865193 , 1645.98440237,\n",
       "       1653.01360498, 1648.40846534, 1651.36868717, 1648.57539949,\n",
       "       1646.72331926, 1661.07234526, 1649.91632606, 1663.78757116,\n",
       "       1664.57145844, 1648.00685913, 1652.24311599, 1648.89415047,\n",
       "       1646.94118469, 1646.67406592, 1651.09319898, 1665.19189641,\n",
       "       1649.08645397, 1664.3820814 , 1666.94075475, 1660.07449147,\n",
       "       1661.62590777, 1660.5599288 , 1649.10861376, 1645.61003428,\n",
       "       1649.74516448, 1658.65119671, 1649.00187694, 1648.4936969 ,\n",
       "       1646.4742223 , 1665.31709304, 1649.44988131, 1662.09055654,\n",
       "       1665.34989137, 1654.24856761, 1660.86889128, 1649.21003418,\n",
       "       1646.05222397, 1656.789909  , 1646.73526412, 1649.6274044 ,\n",
       "       1652.90673362, 1647.50663303, 1647.61229243, 1647.35012345,\n",
       "       1661.83348449, 1646.69843018, 1646.13143275, 1645.73513486,\n",
       "       1648.99209169, 1645.06811188, 1661.37547756, 1647.65007024,\n",
       "       1643.86439122, 1660.26523125, 1649.03509978, 1660.4761737 ,\n",
       "       1661.66778984, 1661.86448873, 1660.92312692, 1651.7375918 ,\n",
       "       1645.46668184, 1663.44215961, 1660.15396377, 1646.1585449 ,\n",
       "       1659.93902863, 1647.56011559, 1661.13103465, 1648.03172284,\n",
       "       1662.52822286, 1662.26475415, 1649.27546884, 1657.6747757 ,\n",
       "       1649.99949934, 1649.02229371, 1648.19067283, 1648.8161941 ,\n",
       "       1647.53176518, 1649.70725315, 1646.18361136, 1647.39403428,\n",
       "       1646.75307223, 1660.22219891, 1648.89368891, 1650.35802161,\n",
       "       1649.23946683, 1649.4527061 , 1648.92882306, 1651.41667332,\n",
       "       1650.33427191, 1664.68403192, 1665.82292811, 1651.44367759,\n",
       "       1650.1323404 , 1661.38994732, 1650.78323148, 1648.33240135,\n",
       "       1660.90693494, 1656.11812364, 1646.51237903, 1647.5622886 ,\n",
       "       1660.149424  , 1657.51525849, 1647.62993809, 1644.01757336,\n",
       "       1646.91534964, 1663.22727298, 1666.81274605, 1666.29219903,\n",
       "       1649.95628563, 1648.99671335, 1650.49112958, 1663.19949961,\n",
       "       1663.0908056 , 1663.51425062, 1664.83397688, 1663.25215187,\n",
       "       1663.12129485, 1661.60969929, 1662.53621654, 1647.73761277,\n",
       "       1648.57218667, 1648.70593364, 1647.1273    , 1646.71625376,\n",
       "       1663.64866755, 1658.34556758, 1657.82101238, 1648.94687903,\n",
       "       1645.11086598, 1645.61162646, 1646.28676904, 1665.12596957,\n",
       "       1651.4108307 , 1648.44097716, 1648.2860583 , 1647.90965513,\n",
       "       1645.06635895, 1643.49097508, 1649.01777656, 1660.72110523,\n",
       "       1651.6105225 , 1664.68714775, 1664.46589419, 1649.59688902,\n",
       "       1664.21351135, 1653.80215199, 1661.97931001, 1663.13223098,\n",
       "       1647.77949326, 1659.09521545, 1652.28415703, 1648.04843115,\n",
       "       1659.20553711, 1651.02604072, 1666.0424126 , 1659.24551629,\n",
       "       1648.86869619, 1645.0193226 , 1646.9552189 , 1657.5097975 ,\n",
       "       1661.6270592 , 1651.04854301, 1647.8519467 , 1659.76798177,\n",
       "       1662.17308258, 1658.55957775, 1648.01619815, 1661.19593494,\n",
       "       1648.14259257, 1654.57514759, 1658.69786914, 1661.31766544,\n",
       "       1653.30826349, 1648.48505787, 1661.8794001 , 1644.69776089,\n",
       "       1647.53470349, 1644.4122559 , 1655.65882657, 1657.6391193 ,\n",
       "       1656.75967848, 1659.86798514, 1662.37899323, 1649.31544172,\n",
       "       1648.65692008, 1646.69494986, 1649.12350006, 1656.91744255,\n",
       "       1647.08732022, 1655.2493355 , 1646.47002298, 1655.34309433,\n",
       "       1659.70405684, 1652.72553016, 1645.64916387, 1643.72691123,\n",
       "       1645.81137738, 1649.27128525, 1661.77801231, 1658.9080023 ,\n",
       "       1657.7847686 , 1656.87477724, 1648.24977123, 1646.7734033 ,\n",
       "       1654.24407666, 1656.35817621, 1659.74931663, 1649.54171869,\n",
       "       1645.65879861, 1654.89049945, 1649.6464121 , 1649.23345786,\n",
       "       1648.50713424, 1655.85803609, 1645.91429011, 1647.71970475,\n",
       "       1648.76419825, 1648.69397363, 1648.28880947, 1659.74322792,\n",
       "       1656.74820815, 1650.87040048, 1659.66700992, 1660.00686549,\n",
       "       1659.98268404, 1659.19600909, 1661.09067812, 1657.13645186,\n",
       "       1661.59047884, 1658.18985623, 1649.4813633 , 1655.89753797,\n",
       "       1658.11573458, 1656.47364383, 1661.59654382, 1661.06768251,\n",
       "       1655.41783636, 1652.94659232, 1649.36529251, 1657.19224372,\n",
       "       1649.38556271, 1655.79311282, 1648.31349092, 1655.32237003,\n",
       "       1648.93320855, 1656.35078941, 1651.76949094, 1657.42024826,\n",
       "       1645.35869881, 1655.37739229, 1657.55469576, 1656.6417794 ,\n",
       "       1649.45618818, 1655.79419254, 1658.57440853, 1659.99132664,\n",
       "       1650.25933124, 1658.03037006, 1656.99134606, 1655.34206386,\n",
       "       1655.3084923 , 1645.14041658, 1657.74896392, 1653.7816016 ,\n",
       "       1652.68567202, 1661.13511571, 1659.88493178, 1653.80993846,\n",
       "       1649.22591892, 1647.26788293, 1647.51674632, 1646.67206926,\n",
       "       1647.02430848, 1653.31703484, 1647.76181069, 1648.25178781,\n",
       "       1656.24895976, 1655.73789115, 1651.6091863 , 1657.88770194,\n",
       "       1654.63723477, 1657.30690857, 1657.44886811, 1655.30588844,\n",
       "       1656.03120964, 1644.04434276, 1645.89760441, 1656.37327382,\n",
       "       1645.35244598, 1657.00882902, 1660.02591446, 1658.46422509,\n",
       "       1657.97867264, 1653.98002302, 1650.14895097, 1650.07657606,\n",
       "       1655.13478516, 1651.53124863, 1649.48497648, 1658.27778099,\n",
       "       1662.12256328, 1656.77530439, 1647.91324436, 1657.59985744,\n",
       "       1648.93628828, 1657.61361493, 1656.14934995, 1663.63538799,\n",
       "       1649.1757023 , 1646.74621376, 1651.11285875, 1648.59556011,\n",
       "       1657.02449114, 1656.64843913, 1657.41651542, 1654.40001053,\n",
       "       1649.74549291, 1656.42372982, 1655.05142801, 1655.5649199 ,\n",
       "       1653.56127338, 1650.00873982, 1653.32500949, 1660.04665158,\n",
       "       1655.32001814, 1655.51129037, 1658.66998794, 1645.47254099,\n",
       "       1659.33657718, 1646.48382647, 1647.71483583, 1652.8877004 ,\n",
       "       1645.83555084, 1645.63973107, 1657.93917291, 1660.66887513,\n",
       "       1661.1244684 , 1664.81309718, 1663.09306797, 1663.15003478])"
      ]
     },
     "execution_count": 79,
     "metadata": {},
     "output_type": "execute_result"
    }
   ],
   "source": [
    "pred_TST = model.predict(features_test)\n",
    "pred_TST"
   ]
  },
  {
   "cell_type": "markdown",
   "metadata": {},
   "source": [
    "Предсказываем другой признак - C"
   ]
  },
  {
   "cell_type": "code",
   "execution_count": 80,
   "metadata": {
    "scrolled": false
   },
   "outputs": [
    {
     "name": "stdout",
     "output_type": "stream",
     "text": [
      "0:\tlearn: 0.1004376\ttotal: 146ms\tremaining: 6m 3s\n",
      "250:\tlearn: 0.0883888\ttotal: 42.6s\tremaining: 6m 21s\n",
      "500:\tlearn: 0.0789647\ttotal: 1m 28s\tremaining: 5m 54s\n",
      "750:\tlearn: 0.0715962\ttotal: 2m 14s\tremaining: 5m 13s\n",
      "1000:\tlearn: 0.0656349\ttotal: 3m 2s\tremaining: 4m 32s\n",
      "1250:\tlearn: 0.0608766\ttotal: 3m 53s\tremaining: 3m 53s\n",
      "1500:\tlearn: 0.0568342\ttotal: 4m 43s\tremaining: 3m 8s\n",
      "1750:\tlearn: 0.0533966\ttotal: 5m 33s\tremaining: 2m 22s\n",
      "2000:\tlearn: 0.0504406\ttotal: 6m 26s\tremaining: 1m 36s\n",
      "2250:\tlearn: 0.0478498\ttotal: 7m 19s\tremaining: 48.6s\n",
      "2499:\tlearn: 0.0454874\ttotal: 8m 19s\tremaining: 0us\n"
     ]
    },
    {
     "data": {
      "text/plain": [
       "array([0.05307385, 0.06089534, 0.08277738, 0.06123142, 0.08163282,\n",
       "       0.09089679, 0.06756158, 0.06048207, 0.05617625, 0.07146247,\n",
       "       0.07401936, 0.06424922, 0.05929272, 0.05689796, 0.05690685,\n",
       "       0.08361237, 0.06354124, 0.07683821, 0.05461177, 0.05528953,\n",
       "       0.05159603, 0.05626887, 0.06670302, 0.05371447, 0.06208833,\n",
       "       0.05700898, 0.05313843, 0.05519851, 0.05293917, 0.05544744,\n",
       "       0.05495746, 0.08404294, 0.05616003, 0.05334866, 0.05301451,\n",
       "       0.07233907, 0.05201387, 0.05454573, 0.0795369 , 0.05214727,\n",
       "       0.05618474, 0.05139608, 0.06630749, 0.05811414, 0.06076051,\n",
       "       0.05182235, 0.05640219, 0.05350196, 0.05690359, 0.05759366,\n",
       "       0.05412664, 0.05131855, 0.06681056, 0.05748962, 0.05534065,\n",
       "       0.05532388, 0.05559936, 0.05330772, 0.05471146, 0.06581032,\n",
       "       0.07952904, 0.05851527, 0.07611614, 0.05707788, 0.08489053,\n",
       "       0.07522257, 0.05975505, 0.05867148, 0.05436863, 0.08313799,\n",
       "       0.05563983, 0.06277189, 0.05429522, 0.05953748, 0.19140812,\n",
       "       0.05942303, 0.05790376, 0.0552383 , 0.06255193, 0.05790883,\n",
       "       0.06198886, 0.05550529, 0.05798598, 0.0874255 , 0.059931  ,\n",
       "       0.06196413, 0.06843897, 0.05427792, 0.05286326, 0.0530629 ,\n",
       "       0.05277248, 0.06761706, 0.05706737, 0.05451051, 0.05627461,\n",
       "       0.05369029, 0.05501695, 0.05427255, 0.05590607, 0.07963667,\n",
       "       0.05633377, 0.05501266, 0.05499922, 0.05460394, 0.06352036,\n",
       "       0.05613328, 0.0576454 , 0.08082757, 0.05600798, 0.07104575,\n",
       "       0.05673259, 0.06355825, 0.0526457 , 0.0574976 , 0.05372277,\n",
       "       0.05224615, 0.05496043, 0.06256571, 0.06806774, 0.05902447,\n",
       "       0.06363876, 0.05994326, 0.05744164, 0.06171601, 0.05964632,\n",
       "       0.06171594, 0.05284533, 0.06680503, 0.05483404, 0.05472681,\n",
       "       0.06230604, 0.05622181, 0.05468072, 0.05716983, 0.06285434,\n",
       "       0.0655644 , 0.06732384, 0.06432413, 0.05643155, 0.05080768,\n",
       "       0.06081126, 0.05955075, 0.05583758, 0.05426008, 0.05254799,\n",
       "       0.05641715, 0.05548586, 0.05652224, 0.05186435, 0.05741253,\n",
       "       0.0565051 , 0.05675574, 0.05413679, 0.05501022, 0.0755846 ,\n",
       "       0.05993643, 0.06457906, 0.06640743, 0.05942964, 0.05876379,\n",
       "       0.05805652, 0.05486173, 0.07337122, 0.08151595, 0.06714207,\n",
       "       0.07318625, 0.05510915, 0.06340193, 0.07075765, 0.05817494,\n",
       "       0.06291137, 0.06002295, 0.05783982, 0.05854943, 0.06163914,\n",
       "       0.05459937, 0.05894478, 0.05999155, 0.0667212 , 0.06340749,\n",
       "       0.07003067, 0.0673939 , 0.05977808, 0.0670119 , 0.06819828,\n",
       "       0.06796848, 0.07163909, 0.05768821, 0.06790851, 0.06502633,\n",
       "       0.06061958, 0.05136595, 0.05579674, 0.05418306, 0.06836926,\n",
       "       0.0537325 , 0.06034233, 0.05320139, 0.06478453, 0.06850594,\n",
       "       0.06707891, 0.05581122, 0.07147906, 0.07311855, 0.06832894,\n",
       "       0.06328512, 0.05588828, 0.07082981, 0.06165111, 0.06891046,\n",
       "       0.07219647, 0.07104192, 0.07388193, 0.07165529, 0.06628942,\n",
       "       0.06930977, 0.05741282, 0.06754073, 0.05896741, 0.07962476,\n",
       "       0.05572428, 0.07498658, 0.06044701, 0.06597163, 0.07404401,\n",
       "       0.06093734, 0.07036979, 0.05608076, 0.08140307, 0.06606764,\n",
       "       0.07001792, 0.0693417 , 0.05385505, 0.08353776, 0.06272895,\n",
       "       0.06087718, 0.06438594, 0.05209516, 0.06991053, 0.06523515,\n",
       "       0.09664811, 0.07326342, 0.08958733, 0.09053442, 0.0944522 ,\n",
       "       0.0787771 , 0.08264847, 0.07270726, 0.07243952, 0.0741468 ,\n",
       "       0.08357469, 0.0600096 , 0.09087285, 0.08086529, 0.0678872 ,\n",
       "       0.0801978 , 0.07308866, 0.08780335, 0.09222247, 0.06515567,\n",
       "       0.05806482, 0.05656547, 0.05974421, 0.05445316, 0.06103958,\n",
       "       0.06653103, 0.0716361 , 0.07356892, 0.07266675, 0.07473507,\n",
       "       0.06622192, 0.06596895, 0.06269591, 0.06407031, 0.06313842,\n",
       "       0.0649231 , 0.06212881, 0.07399819, 0.06434474, 0.06817717,\n",
       "       0.07482132, 0.09296196, 0.06969622, 0.06897392, 0.0652979 ,\n",
       "       0.05253407, 0.05885595, 0.06033493, 0.07185717, 0.07116579,\n",
       "       0.071471  , 0.07073614, 0.06641683, 0.0756131 , 0.0614224 ,\n",
       "       0.0581663 , 0.06503257, 0.05264881, 0.05952909, 0.0659312 ,\n",
       "       0.06565269, 0.07091383, 0.05784162, 0.05851555, 0.08452718,\n",
       "       0.08273578, 0.08073792, 0.07057625, 0.08695157, 0.07754704,\n",
       "       0.06614898, 0.06119397, 0.05419749, 0.08166838, 0.06910144,\n",
       "       0.06987024, 0.05680683, 0.05672384, 0.06660471, 0.0769167 ,\n",
       "       0.06218974, 0.07474047, 0.06996984, 0.07710329, 0.07571349,\n",
       "       0.07621868, 0.0719052 , 0.07079502, 0.07203918, 0.08361724,\n",
       "       0.07586996, 0.06453418, 0.06624287, 0.05737846, 0.07222689,\n",
       "       0.06949727, 0.05903885, 0.07586953, 0.06767898, 0.0725999 ,\n",
       "       0.05959869, 0.05616975, 0.05342216, 0.05823665, 0.06329865,\n",
       "       0.06690629, 0.07167729, 0.08693428, 0.06415753, 0.0706109 ,\n",
       "       0.05670018, 0.05794403, 0.0676898 , 0.0838392 , 0.06391142,\n",
       "       0.07961316, 0.05807391, 0.09486483, 0.06872407, 0.07161586,\n",
       "       0.07010522, 0.07020026, 0.06822652, 0.08799979, 0.07767485,\n",
       "       0.06397149, 0.06195921, 0.09059719, 0.06335004, 0.22202567,\n",
       "       0.07804932, 0.25472926, 0.0784214 , 0.17421498, 0.06948787,\n",
       "       0.0785025 , 0.06623583, 0.06831928, 0.07635977, 0.07889852,\n",
       "       0.06025093, 0.06425499, 0.07340031, 0.06829467, 0.06003   ,\n",
       "       0.06866407, 0.06134798, 0.07025208, 0.07176919, 0.08397041,\n",
       "       0.05535861, 0.06816361, 0.08371547, 0.09440259, 0.06543662,\n",
       "       0.07575516, 0.05479623, 0.05617808, 0.05299302, 0.06476407,\n",
       "       0.05517114, 0.06553307, 0.05352909, 0.05812116, 0.05660094,\n",
       "       0.05644602, 0.07421153, 0.08559444, 0.05753696, 0.06748372,\n",
       "       0.07470252, 0.06523819, 0.07518076, 0.06467158, 0.07814963,\n",
       "       0.07272771, 0.08319924, 0.08324742, 0.0816203 , 0.07594346,\n",
       "       0.07253507, 0.07172382, 0.08804781, 0.07543785, 0.06678942,\n",
       "       0.06612673, 0.0597738 , 0.05611197, 0.06929873, 0.06342758,\n",
       "       0.064472  , 0.08232081, 0.07237108, 0.06198624, 0.06033501,\n",
       "       0.06784789, 0.06852932, 0.06194857, 0.06888331, 0.06524465,\n",
       "       0.07566963, 0.0810408 , 0.0762717 , 0.06257197, 0.06111904,\n",
       "       0.06106989, 0.057268  , 0.05460981, 0.05766976, 0.06329983,\n",
       "       0.06691095, 0.07897786, 0.06295761, 0.06935657, 0.07941264,\n",
       "       0.06711464, 0.05746988, 0.05821121, 0.05635519, 0.05412058,\n",
       "       0.06003144, 0.05455888, 0.06996893, 0.05918385, 0.07984924,\n",
       "       0.05307808, 0.07629394, 0.06754188, 0.05585201, 0.0548835 ,\n",
       "       0.06417038, 0.06376658, 0.06523361, 0.10782838, 0.06771196,\n",
       "       0.07223565, 0.05758474, 0.06161086, 0.06590577, 0.07155803,\n",
       "       0.08377655, 0.06129927, 0.06728426, 0.06010638, 0.05906684,\n",
       "       0.06382886, 0.05836704, 0.06304225, 0.06565468, 0.06184381,\n",
       "       0.06061558, 0.06541022, 0.05557144, 0.05151504, 0.05656329,\n",
       "       0.05735281, 0.05546585, 0.0570472 , 0.05797805, 0.09678863,\n",
       "       0.06393762, 0.06069789, 0.05569339, 0.06269231, 0.0623089 ,\n",
       "       0.06374246, 0.05493824, 0.06252513, 0.06110799, 0.05817657,\n",
       "       0.0659716 , 0.06386769, 0.08273225, 0.06976054, 0.05898904,\n",
       "       0.06074285, 0.05820559, 0.06992215, 0.05796163, 0.06164559,\n",
       "       0.06111658, 0.05827551, 0.06302439, 0.06674532, 0.06817487,\n",
       "       0.05915394, 0.07129303, 0.06983336, 0.06480706, 0.06148784,\n",
       "       0.06065554, 0.07059091, 0.06764399, 0.06474975, 0.08511315,\n",
       "       0.06359396, 0.05697875, 0.07052709, 0.06298241, 0.06653246,\n",
       "       0.05595549, 0.06091857, 0.06202712, 0.05855236, 0.06466369,\n",
       "       0.05330101, 0.05682548, 0.06014122, 0.08216687, 0.06540631,\n",
       "       0.0677285 , 0.05796082, 0.05937645, 0.05419127, 0.06086377,\n",
       "       0.05940346, 0.06403581, 0.06098383, 0.05474227, 0.06466791,\n",
       "       0.06641374, 0.06996272, 0.06132068, 0.06016325, 0.05596645,\n",
       "       0.05341078, 0.07953412, 0.07285908, 0.0555288 , 0.06489784,\n",
       "       0.07625442, 0.05851584, 0.06462836, 0.06739868, 0.06815936,\n",
       "       0.0676148 , 0.06471773, 0.06226301, 0.07423554, 0.07188483,\n",
       "       0.07194299, 0.05610071, 0.05548127, 0.07801793, 0.05801845,\n",
       "       0.07101426, 0.05438165, 0.05585159, 0.07054923, 0.06312116,\n",
       "       0.08868436, 0.07212799, 0.06219243, 0.0564284 , 0.05146106,\n",
       "       0.08792674, 0.0602607 , 0.09184895, 0.09779619, 0.06577259,\n",
       "       0.05965385, 0.06665083, 0.06997298, 0.06760596, 0.0671742 ,\n",
       "       0.07377697, 0.06925493, 0.05989379, 0.07258466, 0.06909172,\n",
       "       0.06370991, 0.0632869 , 0.05975808, 0.06627959, 0.06283204,\n",
       "       0.06214757, 0.06364186, 0.06718977, 0.0956874 , 0.08469887,\n",
       "       0.08599787, 0.06455243, 0.06149806, 0.05985197, 0.06622941,\n",
       "       0.06418046, 0.06566884, 0.06872365, 0.0826539 , 0.07429901,\n",
       "       0.07297467, 0.0836541 , 0.0930781 , 0.06630556, 0.06683254,\n",
       "       0.06363737, 0.06182908, 0.083021  , 0.09654704, 0.05558818,\n",
       "       0.0897448 , 0.07837014, 0.06486184, 0.07262297, 0.06311603,\n",
       "       0.05842482, 0.07316162, 0.07295845, 0.06048104, 0.0634453 ,\n",
       "       0.06539332, 0.08295491, 0.07030572, 0.06364556, 0.06375482,\n",
       "       0.06659819, 0.06495207, 0.08834841, 0.0706257 , 0.05810755,\n",
       "       0.07904489, 0.06753179, 0.07473071, 0.06102258, 0.05480493,\n",
       "       0.08389452, 0.05813051, 0.07680733, 0.05744464, 0.08512498,\n",
       "       0.07733012, 0.09347101, 0.094401  , 0.07546406, 0.06352358,\n",
       "       0.06034328, 0.08173162, 0.07957862, 0.06929972, 0.06132408,\n",
       "       0.06432056, 0.07034625, 0.06933703, 0.06698294, 0.06470878,\n",
       "       0.07207174, 0.06566307, 0.06654403, 0.06442932, 0.0700977 ,\n",
       "       0.08889681, 0.09102303, 0.0692423 , 0.08488983, 0.0531841 ,\n",
       "       0.05932703, 0.07731543, 0.06823744, 0.06629794, 0.06868228,\n",
       "       0.06878728, 0.06747852, 0.07499952, 0.06314563, 0.08700479,\n",
       "       0.08490288, 0.08934352, 0.08793282, 0.06870287, 0.0555769 ,\n",
       "       0.05649945, 0.06167149, 0.05389467, 0.06125066, 0.05442485,\n",
       "       0.06502401, 0.09403987, 0.09143996, 0.09442818, 0.06993505,\n",
       "       0.07500882, 0.07660952, 0.0720425 , 0.09332374, 0.07444362,\n",
       "       0.06703893, 0.0605802 , 0.08754843, 0.06461551, 0.08891711,\n",
       "       0.10399962, 0.09073297, 0.07768038, 0.07726101, 0.0762523 ,\n",
       "       0.08294564, 0.0886244 , 0.07591197, 0.07753982, 0.05907927,\n",
       "       0.07511443, 0.07101826, 0.06988963, 0.07217162, 0.0725053 ,\n",
       "       0.06761911, 0.0642906 , 0.06517141, 0.07115311, 0.07236669,\n",
       "       0.07396042, 0.07197202, 0.08762121, 0.0857916 , 0.09657086,\n",
       "       0.09466258, 0.07799377, 0.08450095, 0.06742067, 0.07432832,\n",
       "       0.08002732, 0.06854766, 0.0845126 , 0.07703316, 0.09262533,\n",
       "       0.07970136, 0.08013154, 0.0785841 , 0.05652697, 0.07065723,\n",
       "       0.07451985, 0.0661614 , 0.07067059, 0.0689586 , 0.05767371,\n",
       "       0.05633728, 0.06233513, 0.05649339, 0.05736608, 0.05348917])"
      ]
     },
     "execution_count": 80,
     "metadata": {},
     "output_type": "execute_result"
    }
   ],
   "source": [
    "model.fit(features_train, target_train_['C'])\n",
    "pred_C = model.predict(features_test)\n",
    "pred_C"
   ]
  },
  {
   "cell_type": "code",
   "execution_count": 81,
   "metadata": {},
   "outputs": [
    {
     "data": {
      "image/png": "[encoded data removed]",
      "text/plain": [
       "<Figure size 576x432 with 1 Axes>"
      ]
     },
     "metadata": {
      "needs_background": "light"
     },
     "output_type": "display_data"
    }
   ],
   "source": [
    "pd.Series(model.feature_importances_, index=features_train.columns).nlargest(10)\\\n",
    "                                                                       .plot(kind='barh', grid=True, figsize=(8,6), \n",
    "                                                                             title='Важность признаков при обучении модели');"
   ]
  },
  {
   "cell_type": "code",
   "execution_count": 82,
   "metadata": {},
   "outputs": [
    {
     "data": {
      "image/png": "[encoded data removed]",
      "text/plain": [
       "<Figure size 576x432 with 1 Axes>"
      ]
     },
     "metadata": {
      "needs_background": "light"
     },
     "output_type": "display_data"
    }
   ],
   "source": [
    "pd.Series(model.feature_importances_, index=features_train.columns).nsmallest(10)\\\n",
    "                                                                       .plot(kind='barh', grid=True, figsize=(8,6), \n",
    "                                                                             title='Важность признаков при обучении модели');"
   ]
  },
  {
   "cell_type": "markdown",
   "metadata": {},
   "source": [
    "### Сабмитим"
   ]
  },
  {
   "cell_type": "code",
   "execution_count": 83,
   "metadata": {},
   "outputs": [
    {
     "data": {
      "text/html": [
       "<div>\n",
       "<style scoped>\n",
       "    .dataframe tbody tr th:only-of-type {\n",
       "        vertical-align: middle;\n",
       "    }\n",
       "\n",
       "    .dataframe tbody tr th {\n",
       "        vertical-align: top;\n",
       "    }\n",
       "\n",
       "    .dataframe thead th {\n",
       "        text-align: right;\n",
       "    }\n",
       "</style>\n",
       "<table border=\"1\" class=\"dataframe\">\n",
       "  <thead>\n",
       "    <tr style=\"text-align: right;\">\n",
       "      <th></th>\n",
       "      <th>NPLV</th>\n",
       "      <th>TST</th>\n",
       "      <th>C</th>\n",
       "    </tr>\n",
       "  </thead>\n",
       "  <tbody>\n",
       "    <tr>\n",
       "      <th>0</th>\n",
       "      <td>512324</td>\n",
       "      <td>1661.778569</td>\n",
       "      <td>0.053074</td>\n",
       "    </tr>\n",
       "    <tr>\n",
       "      <th>1</th>\n",
       "      <td>512327</td>\n",
       "      <td>1651.140740</td>\n",
       "      <td>0.060895</td>\n",
       "    </tr>\n",
       "    <tr>\n",
       "      <th>2</th>\n",
       "      <td>512328</td>\n",
       "      <td>1651.766012</td>\n",
       "      <td>0.082777</td>\n",
       "    </tr>\n",
       "    <tr>\n",
       "      <th>3</th>\n",
       "      <td>512331</td>\n",
       "      <td>1649.742302</td>\n",
       "      <td>0.061231</td>\n",
       "    </tr>\n",
       "    <tr>\n",
       "      <th>4</th>\n",
       "      <td>512333</td>\n",
       "      <td>1653.294635</td>\n",
       "      <td>0.081633</td>\n",
       "    </tr>\n",
       "    <tr>\n",
       "      <th>...</th>\n",
       "      <td>...</td>\n",
       "      <td>...</td>\n",
       "      <td>...</td>\n",
       "    </tr>\n",
       "    <tr>\n",
       "      <th>775</th>\n",
       "      <td>513369</td>\n",
       "      <td>1660.668875</td>\n",
       "      <td>0.056337</td>\n",
       "    </tr>\n",
       "    <tr>\n",
       "      <th>776</th>\n",
       "      <td>513370</td>\n",
       "      <td>1661.124468</td>\n",
       "      <td>0.062335</td>\n",
       "    </tr>\n",
       "    <tr>\n",
       "      <th>777</th>\n",
       "      <td>513371</td>\n",
       "      <td>1664.813097</td>\n",
       "      <td>0.056493</td>\n",
       "    </tr>\n",
       "    <tr>\n",
       "      <th>778</th>\n",
       "      <td>513372</td>\n",
       "      <td>1663.093068</td>\n",
       "      <td>0.057366</td>\n",
       "    </tr>\n",
       "    <tr>\n",
       "      <th>779</th>\n",
       "      <td>513374</td>\n",
       "      <td>1663.150035</td>\n",
       "      <td>0.053489</td>\n",
       "    </tr>\n",
       "  </tbody>\n",
       "</table>\n",
       "<p>780 rows × 3 columns</p>\n",
       "</div>"
      ],
      "text/plain": [
       "       NPLV          TST         C\n",
       "0    512324  1661.778569  0.053074\n",
       "1    512327  1651.140740  0.060895\n",
       "2    512328  1651.766012  0.082777\n",
       "3    512331  1649.742302  0.061231\n",
       "4    512333  1653.294635  0.081633\n",
       "..      ...          ...       ...\n",
       "775  513369  1660.668875  0.056337\n",
       "776  513370  1661.124468  0.062335\n",
       "777  513371  1664.813097  0.056493\n",
       "778  513372  1663.093068  0.057366\n",
       "779  513374  1663.150035  0.053489\n",
       "\n",
       "[780 rows x 3 columns]"
      ]
     },
     "execution_count": 83,
     "metadata": {},
     "output_type": "execute_result"
    }
   ],
   "source": [
    "sub = pd.DataFrame(data={'NPLV': features_test['NPLV'], 'TST': pred_TST,  'C': pred_C})\n",
    "sub"
   ]
  },
  {
   "cell_type": "code",
   "execution_count": 84,
   "metadata": {},
   "outputs": [
    {
     "data": {
      "text/html": [
       "<div>\n",
       "<style scoped>\n",
       "    .dataframe tbody tr th:only-of-type {\n",
       "        vertical-align: middle;\n",
       "    }\n",
       "\n",
       "    .dataframe tbody tr th {\n",
       "        vertical-align: top;\n",
       "    }\n",
       "\n",
       "    .dataframe thead th {\n",
       "        text-align: right;\n",
       "    }\n",
       "</style>\n",
       "<table border=\"1\" class=\"dataframe\">\n",
       "  <thead>\n",
       "    <tr style=\"text-align: right;\">\n",
       "      <th></th>\n",
       "      <th>NPLV</th>\n",
       "      <th>TST</th>\n",
       "      <th>C</th>\n",
       "    </tr>\n",
       "  </thead>\n",
       "  <tbody>\n",
       "    <tr>\n",
       "      <th>0</th>\n",
       "      <td>512324</td>\n",
       "      <td>1640</td>\n",
       "      <td>0.0</td>\n",
       "    </tr>\n",
       "    <tr>\n",
       "      <th>1</th>\n",
       "      <td>512327</td>\n",
       "      <td>1640</td>\n",
       "      <td>0.0</td>\n",
       "    </tr>\n",
       "    <tr>\n",
       "      <th>2</th>\n",
       "      <td>512328</td>\n",
       "      <td>1640</td>\n",
       "      <td>0.0</td>\n",
       "    </tr>\n",
       "    <tr>\n",
       "      <th>3</th>\n",
       "      <td>512331</td>\n",
       "      <td>1640</td>\n",
       "      <td>0.0</td>\n",
       "    </tr>\n",
       "    <tr>\n",
       "      <th>4</th>\n",
       "      <td>512333</td>\n",
       "      <td>1640</td>\n",
       "      <td>0.0</td>\n",
       "    </tr>\n",
       "    <tr>\n",
       "      <th>...</th>\n",
       "      <td>...</td>\n",
       "      <td>...</td>\n",
       "      <td>...</td>\n",
       "    </tr>\n",
       "    <tr>\n",
       "      <th>775</th>\n",
       "      <td>513369</td>\n",
       "      <td>1640</td>\n",
       "      <td>0.0</td>\n",
       "    </tr>\n",
       "    <tr>\n",
       "      <th>776</th>\n",
       "      <td>513370</td>\n",
       "      <td>1640</td>\n",
       "      <td>0.0</td>\n",
       "    </tr>\n",
       "    <tr>\n",
       "      <th>777</th>\n",
       "      <td>513371</td>\n",
       "      <td>1640</td>\n",
       "      <td>0.0</td>\n",
       "    </tr>\n",
       "    <tr>\n",
       "      <th>778</th>\n",
       "      <td>513372</td>\n",
       "      <td>1640</td>\n",
       "      <td>0.0</td>\n",
       "    </tr>\n",
       "    <tr>\n",
       "      <th>779</th>\n",
       "      <td>513374</td>\n",
       "      <td>1640</td>\n",
       "      <td>0.0</td>\n",
       "    </tr>\n",
       "  </tbody>\n",
       "</table>\n",
       "<p>780 rows × 3 columns</p>\n",
       "</div>"
      ],
      "text/plain": [
       "       NPLV   TST    C\n",
       "0    512324  1640  0.0\n",
       "1    512327  1640  0.0\n",
       "2    512328  1640  0.0\n",
       "3    512331  1640  0.0\n",
       "4    512333  1640  0.0\n",
       "..      ...   ...  ...\n",
       "775  513369  1640  0.0\n",
       "776  513370  1640  0.0\n",
       "777  513371  1640  0.0\n",
       "778  513372  1640  0.0\n",
       "779  513374  1640  0.0\n",
       "\n",
       "[780 rows x 3 columns]"
      ]
     },
     "execution_count": 84,
     "metadata": {},
     "output_type": "execute_result"
    }
   ],
   "source": [
    "pd.read_csv('sample_submission.csv')"
   ]
  },
  {
   "cell_type": "code",
   "execution_count": 85,
   "metadata": {},
   "outputs": [],
   "source": [
    "sub.to_csv('test05.csv', index=False)"
   ]
  },
  {
   "cell_type": "code",
   "execution_count": null,
   "metadata": {},
   "outputs": [],
   "source": []
  }
 ],
 "metadata": {
  "kernelspec": {
   "display_name": "Python 3",
   "language": "python",
   "name": "python3"
  },
  "language_info": {
   "codemirror_mode": {
    "name": "ipython",
    "version": 3
   },
   "file_extension": ".py",
   "mimetype": "text/x-python",
   "name": "python",
   "nbconvert_exporter": "python",
   "pygments_lexer": "ipython3",
   "version": "3.8.5"
  }
 },
 "nbformat": 4,
 "nbformat_minor": 4
}
